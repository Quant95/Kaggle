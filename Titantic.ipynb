{
 "cells": [
  {
   "cell_type": "code",
   "execution_count": 1,
   "metadata": {},
   "outputs": [],
   "source": [
    "import pandas as pd\n",
    "import matplotlib.pyplot as plt"
   ]
  },
  {
   "cell_type": "code",
   "execution_count": 2,
   "metadata": {},
   "outputs": [
    {
     "data": {
      "text/plain": [
       "RangeIndex(start=0, stop=891, step=1)"
      ]
     },
     "execution_count": 2,
     "metadata": {},
     "output_type": "execute_result"
    }
   ],
   "source": [
    "datum = pd.read_csv('train.csv')\n",
    "test_datum = pd.read_csv('test.csv')\n",
    "datum.index"
   ]
  },
  {
   "cell_type": "code",
   "execution_count": 3,
   "metadata": {},
   "outputs": [
    {
     "data": {
      "text/plain": [
       "Index(['PassengerId', 'Survived', 'Pclass', 'Name', 'Sex', 'Age', 'SibSp',\n",
       "       'Parch', 'Ticket', 'Fare', 'Cabin', 'Embarked'],\n",
       "      dtype='object')"
      ]
     },
     "execution_count": 3,
     "metadata": {},
     "output_type": "execute_result"
    }
   ],
   "source": [
    "datum.columns"
   ]
  },
  {
   "cell_type": "code",
   "execution_count": 4,
   "metadata": {
    "scrolled": true
   },
   "outputs": [
    {
     "data": {
      "text/plain": [
       "PassengerId      int64\n",
       "Survived         int64\n",
       "Pclass           int64\n",
       "Name            object\n",
       "Sex             object\n",
       "Age            float64\n",
       "SibSp            int64\n",
       "Parch            int64\n",
       "Ticket          object\n",
       "Fare           float64\n",
       "Cabin           object\n",
       "Embarked        object\n",
       "dtype: object"
      ]
     },
     "execution_count": 4,
     "metadata": {},
     "output_type": "execute_result"
    }
   ],
   "source": [
    "datum.dtypes"
   ]
  },
  {
   "cell_type": "code",
   "execution_count": 5,
   "metadata": {},
   "outputs": [
    {
     "data": {
      "text/html": [
       "<div>\n",
       "<style scoped>\n",
       "    .dataframe tbody tr th:only-of-type {\n",
       "        vertical-align: middle;\n",
       "    }\n",
       "\n",
       "    .dataframe tbody tr th {\n",
       "        vertical-align: top;\n",
       "    }\n",
       "\n",
       "    .dataframe thead th {\n",
       "        text-align: right;\n",
       "    }\n",
       "</style>\n",
       "<table border=\"1\" class=\"dataframe\">\n",
       "  <thead>\n",
       "    <tr style=\"text-align: right;\">\n",
       "      <th></th>\n",
       "      <th>PassengerId</th>\n",
       "      <th>Survived</th>\n",
       "      <th>Pclass</th>\n",
       "      <th>Name</th>\n",
       "      <th>Sex</th>\n",
       "      <th>Age</th>\n",
       "      <th>SibSp</th>\n",
       "      <th>Parch</th>\n",
       "      <th>Ticket</th>\n",
       "      <th>Fare</th>\n",
       "      <th>Cabin</th>\n",
       "      <th>Embarked</th>\n",
       "    </tr>\n",
       "  </thead>\n",
       "  <tbody>\n",
       "    <tr>\n",
       "      <th>0</th>\n",
       "      <td>1</td>\n",
       "      <td>0</td>\n",
       "      <td>3</td>\n",
       "      <td>Braund, Mr. Owen Harris</td>\n",
       "      <td>male</td>\n",
       "      <td>22.0</td>\n",
       "      <td>1</td>\n",
       "      <td>0</td>\n",
       "      <td>A/5 21171</td>\n",
       "      <td>7.2500</td>\n",
       "      <td>NaN</td>\n",
       "      <td>S</td>\n",
       "    </tr>\n",
       "    <tr>\n",
       "      <th>1</th>\n",
       "      <td>2</td>\n",
       "      <td>1</td>\n",
       "      <td>1</td>\n",
       "      <td>Cumings, Mrs. John Bradley (Florence Briggs Th...</td>\n",
       "      <td>female</td>\n",
       "      <td>38.0</td>\n",
       "      <td>1</td>\n",
       "      <td>0</td>\n",
       "      <td>PC 17599</td>\n",
       "      <td>71.2833</td>\n",
       "      <td>C85</td>\n",
       "      <td>C</td>\n",
       "    </tr>\n",
       "    <tr>\n",
       "      <th>2</th>\n",
       "      <td>3</td>\n",
       "      <td>1</td>\n",
       "      <td>3</td>\n",
       "      <td>Heikkinen, Miss. Laina</td>\n",
       "      <td>female</td>\n",
       "      <td>26.0</td>\n",
       "      <td>0</td>\n",
       "      <td>0</td>\n",
       "      <td>STON/O2. 3101282</td>\n",
       "      <td>7.9250</td>\n",
       "      <td>NaN</td>\n",
       "      <td>S</td>\n",
       "    </tr>\n",
       "    <tr>\n",
       "      <th>3</th>\n",
       "      <td>4</td>\n",
       "      <td>1</td>\n",
       "      <td>1</td>\n",
       "      <td>Futrelle, Mrs. Jacques Heath (Lily May Peel)</td>\n",
       "      <td>female</td>\n",
       "      <td>35.0</td>\n",
       "      <td>1</td>\n",
       "      <td>0</td>\n",
       "      <td>113803</td>\n",
       "      <td>53.1000</td>\n",
       "      <td>C123</td>\n",
       "      <td>S</td>\n",
       "    </tr>\n",
       "    <tr>\n",
       "      <th>4</th>\n",
       "      <td>5</td>\n",
       "      <td>0</td>\n",
       "      <td>3</td>\n",
       "      <td>Allen, Mr. William Henry</td>\n",
       "      <td>male</td>\n",
       "      <td>35.0</td>\n",
       "      <td>0</td>\n",
       "      <td>0</td>\n",
       "      <td>373450</td>\n",
       "      <td>8.0500</td>\n",
       "      <td>NaN</td>\n",
       "      <td>S</td>\n",
       "    </tr>\n",
       "  </tbody>\n",
       "</table>\n",
       "</div>"
      ],
      "text/plain": [
       "   PassengerId  Survived  Pclass  \\\n",
       "0            1         0       3   \n",
       "1            2         1       1   \n",
       "2            3         1       3   \n",
       "3            4         1       1   \n",
       "4            5         0       3   \n",
       "\n",
       "                                                Name     Sex   Age  SibSp  \\\n",
       "0                            Braund, Mr. Owen Harris    male  22.0      1   \n",
       "1  Cumings, Mrs. John Bradley (Florence Briggs Th...  female  38.0      1   \n",
       "2                             Heikkinen, Miss. Laina  female  26.0      0   \n",
       "3       Futrelle, Mrs. Jacques Heath (Lily May Peel)  female  35.0      1   \n",
       "4                           Allen, Mr. William Henry    male  35.0      0   \n",
       "\n",
       "   Parch            Ticket     Fare Cabin Embarked  \n",
       "0      0         A/5 21171   7.2500   NaN        S  \n",
       "1      0          PC 17599  71.2833   C85        C  \n",
       "2      0  STON/O2. 3101282   7.9250   NaN        S  \n",
       "3      0            113803  53.1000  C123        S  \n",
       "4      0            373450   8.0500   NaN        S  "
      ]
     },
     "execution_count": 5,
     "metadata": {},
     "output_type": "execute_result"
    }
   ],
   "source": [
    "datum.head()"
   ]
  },
  {
   "cell_type": "code",
   "execution_count": 6,
   "metadata": {},
   "outputs": [
    {
     "data": {
      "text/html": [
       "<div>\n",
       "<style scoped>\n",
       "    .dataframe tbody tr th:only-of-type {\n",
       "        vertical-align: middle;\n",
       "    }\n",
       "\n",
       "    .dataframe tbody tr th {\n",
       "        vertical-align: top;\n",
       "    }\n",
       "\n",
       "    .dataframe thead th {\n",
       "        text-align: right;\n",
       "    }\n",
       "</style>\n",
       "<table border=\"1\" class=\"dataframe\">\n",
       "  <thead>\n",
       "    <tr style=\"text-align: right;\">\n",
       "      <th></th>\n",
       "      <th>PassengerId</th>\n",
       "      <th>Survived</th>\n",
       "      <th>Pclass</th>\n",
       "      <th>Name</th>\n",
       "      <th>Sex</th>\n",
       "      <th>Age</th>\n",
       "      <th>SibSp</th>\n",
       "      <th>Parch</th>\n",
       "      <th>Ticket</th>\n",
       "      <th>Fare</th>\n",
       "      <th>Cabin</th>\n",
       "      <th>Embarked</th>\n",
       "    </tr>\n",
       "  </thead>\n",
       "  <tbody>\n",
       "    <tr>\n",
       "      <th>886</th>\n",
       "      <td>887</td>\n",
       "      <td>0</td>\n",
       "      <td>2</td>\n",
       "      <td>Montvila, Rev. Juozas</td>\n",
       "      <td>male</td>\n",
       "      <td>27.0</td>\n",
       "      <td>0</td>\n",
       "      <td>0</td>\n",
       "      <td>211536</td>\n",
       "      <td>13.00</td>\n",
       "      <td>NaN</td>\n",
       "      <td>S</td>\n",
       "    </tr>\n",
       "    <tr>\n",
       "      <th>887</th>\n",
       "      <td>888</td>\n",
       "      <td>1</td>\n",
       "      <td>1</td>\n",
       "      <td>Graham, Miss. Margaret Edith</td>\n",
       "      <td>female</td>\n",
       "      <td>19.0</td>\n",
       "      <td>0</td>\n",
       "      <td>0</td>\n",
       "      <td>112053</td>\n",
       "      <td>30.00</td>\n",
       "      <td>B42</td>\n",
       "      <td>S</td>\n",
       "    </tr>\n",
       "    <tr>\n",
       "      <th>888</th>\n",
       "      <td>889</td>\n",
       "      <td>0</td>\n",
       "      <td>3</td>\n",
       "      <td>Johnston, Miss. Catherine Helen \"Carrie\"</td>\n",
       "      <td>female</td>\n",
       "      <td>NaN</td>\n",
       "      <td>1</td>\n",
       "      <td>2</td>\n",
       "      <td>W./C. 6607</td>\n",
       "      <td>23.45</td>\n",
       "      <td>NaN</td>\n",
       "      <td>S</td>\n",
       "    </tr>\n",
       "    <tr>\n",
       "      <th>889</th>\n",
       "      <td>890</td>\n",
       "      <td>1</td>\n",
       "      <td>1</td>\n",
       "      <td>Behr, Mr. Karl Howell</td>\n",
       "      <td>male</td>\n",
       "      <td>26.0</td>\n",
       "      <td>0</td>\n",
       "      <td>0</td>\n",
       "      <td>111369</td>\n",
       "      <td>30.00</td>\n",
       "      <td>C148</td>\n",
       "      <td>C</td>\n",
       "    </tr>\n",
       "    <tr>\n",
       "      <th>890</th>\n",
       "      <td>891</td>\n",
       "      <td>0</td>\n",
       "      <td>3</td>\n",
       "      <td>Dooley, Mr. Patrick</td>\n",
       "      <td>male</td>\n",
       "      <td>32.0</td>\n",
       "      <td>0</td>\n",
       "      <td>0</td>\n",
       "      <td>370376</td>\n",
       "      <td>7.75</td>\n",
       "      <td>NaN</td>\n",
       "      <td>Q</td>\n",
       "    </tr>\n",
       "  </tbody>\n",
       "</table>\n",
       "</div>"
      ],
      "text/plain": [
       "     PassengerId  Survived  Pclass                                      Name  \\\n",
       "886          887         0       2                     Montvila, Rev. Juozas   \n",
       "887          888         1       1              Graham, Miss. Margaret Edith   \n",
       "888          889         0       3  Johnston, Miss. Catherine Helen \"Carrie\"   \n",
       "889          890         1       1                     Behr, Mr. Karl Howell   \n",
       "890          891         0       3                       Dooley, Mr. Patrick   \n",
       "\n",
       "        Sex   Age  SibSp  Parch      Ticket   Fare Cabin Embarked  \n",
       "886    male  27.0      0      0      211536  13.00   NaN        S  \n",
       "887  female  19.0      0      0      112053  30.00   B42        S  \n",
       "888  female   NaN      1      2  W./C. 6607  23.45   NaN        S  \n",
       "889    male  26.0      0      0      111369  30.00  C148        C  \n",
       "890    male  32.0      0      0      370376   7.75   NaN        Q  "
      ]
     },
     "execution_count": 6,
     "metadata": {},
     "output_type": "execute_result"
    }
   ],
   "source": [
    "datum.tail()"
   ]
  },
  {
   "cell_type": "code",
   "execution_count": 7,
   "metadata": {},
   "outputs": [
    {
     "name": "stdout",
     "output_type": "stream",
     "text": [
      "<class 'pandas.core.frame.DataFrame'>\n",
      "RangeIndex: 891 entries, 0 to 890\n",
      "Data columns (total 12 columns):\n",
      "PassengerId    891 non-null int64\n",
      "Survived       891 non-null int64\n",
      "Pclass         891 non-null int64\n",
      "Name           891 non-null object\n",
      "Sex            891 non-null object\n",
      "Age            714 non-null float64\n",
      "SibSp          891 non-null int64\n",
      "Parch          891 non-null int64\n",
      "Ticket         891 non-null object\n",
      "Fare           891 non-null float64\n",
      "Cabin          204 non-null object\n",
      "Embarked       889 non-null object\n",
      "dtypes: float64(2), int64(5), object(5)\n",
      "memory usage: 83.6+ KB\n"
     ]
    }
   ],
   "source": [
    "datum.info()"
   ]
  },
  {
   "cell_type": "code",
   "execution_count": 8,
   "metadata": {},
   "outputs": [
    {
     "data": {
      "text/plain": [
       "Text(0, 0.5, 'passenger number')"
      ]
     },
     "execution_count": 8,
     "metadata": {},
     "output_type": "execute_result"
    },
    {
     "data": {
      "image/png": "[encoded data removed]",
      "text/plain": [
       "<Figure size 432x288 with 1 Axes>"
      ]
     },
     "metadata": {
      "needs_background": "light"
     },
     "output_type": "display_data"
    }
   ],
   "source": [
    "fig = plt.figure()\n",
    "fig.set(alpha=0.2)  # 设定图表颜色alpha参数\n",
    "\n",
    "datum.Survived.value_counts().plot(kind='bar')# 柱状图 \n",
    "plt.title('Survive situation, (1 means survived)') # 标题\n",
    "plt.ylabel('passenger number')"
   ]
  },
  {
   "cell_type": "code",
   "execution_count": 9,
   "metadata": {},
   "outputs": [
    {
     "data": {
      "text/plain": [
       "Text(0, 0.5, 'passenger number')"
      ]
     },
     "execution_count": 9,
     "metadata": {},
     "output_type": "execute_result"
    },
    {
     "data": {
      "image/png": "[encoded data removed]",
      "text/plain": [
       "<Figure size 432x288 with 1 Axes>"
      ]
     },
     "metadata": {
      "needs_background": "light"
     },
     "output_type": "display_data"
    },
    {
     "data": {
      "image/png": "[encoded data removed]",
      "text/plain": [
       "<Figure size 432x288 with 1 Axes>"
      ]
     },
     "metadata": {
      "needs_background": "light"
     },
     "output_type": "display_data"
    },
    {
     "data": {
      "image/png": "[encoded data removed]",
      "text/plain": [
       "<Figure size 432x288 with 1 Axes>"
      ]
     },
     "metadata": {
      "needs_background": "light"
     },
     "output_type": "display_data"
    }
   ],
   "source": [
    "Survived_0 = datum.Pclass[datum.Survived == 0].value_counts()\n",
    "Survived_1 = datum.Pclass[datum.Survived == 1].value_counts()\n",
    "df1 = pd.DataFrame({'Survived': Survived_1, 'unSurvived': Survived_0})\n",
    "df1.plot(kind='bar', stacked=True)\n",
    "plt.title('relationship between survived and passenger class')\n",
    "plt.xlabel('passenger class')\n",
    "plt.ylabel('passenger number')\n",
    "\n",
    "Survived_m = datum.Survived[datum.Sex == 'male'].value_counts()\n",
    "Survived_f = datum.Survived[datum.Sex == 'female'].value_counts()\n",
    "df1 = pd.DataFrame({'male': Survived_m, 'female': Survived_f})\n",
    "df1.plot(kind='bar', stacked=True)\n",
    "plt.title('relationship between survived and passenger sex')\n",
    "plt.xlabel('passenger survived')\n",
    "plt.ylabel('passenger number')\n",
    "\n",
    "Embarked_S = datum.Embarked[datum.Survived == 1].value_counts()\n",
    "Embarked_U = datum.Embarked[datum.Survived == 0].value_counts()\n",
    "df2 = pd.DataFrame({'Survived': Embarked_S, 'unSurvived': Embarked_U})\n",
    "df2.plot(kind='bar', stacked=True)\n",
    "plt.title('relationship between survived and Embarked')\n",
    "plt.xlabel('embarked category')\n",
    "plt.ylabel('passenger number')"
   ]
  },
  {
   "cell_type": "markdown",
   "metadata": {},
   "source": [
    "有无兄弟姐妹与存活率的关系"
   ]
  },
  {
   "cell_type": "code",
   "execution_count": 10,
   "metadata": {},
   "outputs": [
    {
     "data": {
      "text/plain": [
       "Text(0.5, 0, 'noparch')"
      ]
     },
     "execution_count": 10,
     "metadata": {},
     "output_type": "execute_result"
    },
    {
     "data": {
      "image/png": "[encoded data removed]",
      "text/plain": [
       "<Figure size 432x288 with 2 Axes>"
      ]
     },
     "metadata": {},
     "output_type": "display_data"
    }
   ],
   "source": [
    "plt.subplot(1,2,1)\n",
    "parch = datum[datum.Parch != 0]\n",
    "noparch = datum[datum.Parch == 0]\n",
    "parch['Survived'].value_counts().plot.pie(labels=['noSurvived','Survived'], \n",
    "                                          autopct='%1.1f%%')\n",
    "plt.xlabel('parch')\n",
    "plt.subplot(1,2,2)\n",
    "noparch['Survived'].value_counts().plot.pie(labels=['noSurvived','Survived'],\n",
    "                                           autopct=\"%1.1f%%\")\n",
    "plt.xlabel('noparch')"
   ]
  },
  {
   "cell_type": "markdown",
   "metadata": {},
   "source": [
    "亲友人数与存活率的关系"
   ]
  },
  {
   "cell_type": "code",
   "execution_count": 11,
   "metadata": {},
   "outputs": [
    {
     "data": {
      "text/plain": [
       "Text(0.5, 1.0, 'sibsp and survived')"
      ]
     },
     "execution_count": 11,
     "metadata": {},
     "output_type": "execute_result"
    },
    {
     "data": {
      "image/png": "[encoded data removed]",
      "text/plain": [
       "<Figure size 576x360 with 2 Axes>"
      ]
     },
     "metadata": {
      "needs_background": "light"
     },
     "output_type": "display_data"
    }
   ],
   "source": [
    "fig, ax = plt.subplots(1,2,figsize=(8,5))\n",
    "datum[['Parch','Survived']].groupby(['Parch']).mean().plot.bar(ax=ax[0])\n",
    "ax[0].set_title('parch and survived')\n",
    "datum[['SibSp','Survived']].groupby(['SibSp']).mean().plot.bar(ax=ax[1])\n",
    "ax[1].set_title('sibsp and survived')"
   ]
  },
  {
   "cell_type": "markdown",
   "metadata": {},
   "source": [
    "单独观察Parch和SibSp对生存率影响不大，但通过构造家族成员数，可以发现其对生存率有一定的影响，成员数过高或过低均会使生存率降低。"
   ]
  },
  {
   "cell_type": "code",
   "execution_count": 12,
   "metadata": {},
   "outputs": [],
   "source": [
    "new_datum = datum.copy()"
   ]
  },
  {
   "cell_type": "code",
   "execution_count": 13,
   "metadata": {},
   "outputs": [
    {
     "data": {
      "text/plain": [
       "<matplotlib.axes._subplots.AxesSubplot at 0x7ff3a2cb5208>"
      ]
     },
     "execution_count": 13,
     "metadata": {},
     "output_type": "execute_result"
    },
    {
     "data": {
      "image/png": "[encoded data removed]",
      "text/plain": [
       "<Figure size 432x288 with 1 Axes>"
      ]
     },
     "metadata": {
      "needs_background": "light"
     },
     "output_type": "display_data"
    }
   ],
   "source": [
    "new_datum['Family_Size'] = datum['Parch'] + datum['SibSp'] + 1\n",
    "new_datum[['Family_Size','Survived']].groupby(['Family_Size']).mean().plot.bar()"
   ]
  },
  {
   "cell_type": "code",
   "execution_count": 14,
   "metadata": {},
   "outputs": [
    {
     "data": {
      "image/png": "[encoded data removed]",
      "text/plain": [
       "<Figure size 432x288 with 1 Axes>"
      ]
     },
     "metadata": {
      "needs_background": "light"
     },
     "output_type": "display_data"
    }
   ],
   "source": [
    "datum.Age[datum.Survived == 0].plot(kind='kde')   \n",
    "datum.Age[datum.Survived == 1].plot(kind='kde')\n",
    "plt.xlabel('age') \n",
    "plt.ylabel(\"density\") \n",
    "plt.title('relationship between age density and survived')\n",
    "plt.legend(('unsurvived', 'survived'),loc='best') # sets our legend for our graph.\n",
    "plt.tight_layout(pad=0.8, w_pad=2.5, h_pad=1.0)"
   ]
  },
  {
   "cell_type": "markdown",
   "metadata": {},
   "source": [
    "### Baseline: first only choose values with high correlation as the features and modeling to make a baseline  \n",
    "Notice age, cabin, embarked have missing values, and cabin have 891-204/891 missing datum, age have less missing datum, embarked only have two missing datum.  \n",
    "1. Neglect the missing datum and choose features"
   ]
  },
  {
   "cell_type": "code",
   "execution_count": 15,
   "metadata": {},
   "outputs": [
    {
     "name": "stdout",
     "output_type": "stream",
     "text": [
      "             PassengerId  Survived    Pclass       Age     SibSp     Parch  \\\n",
      "PassengerId     1.000000 -0.005007 -0.035144  0.036847 -0.057527 -0.001652   \n",
      "Survived       -0.005007  1.000000 -0.338481 -0.077221 -0.035322  0.081629   \n",
      "Pclass         -0.035144 -0.338481  1.000000 -0.369226  0.083081  0.018443   \n",
      "Age             0.036847 -0.077221 -0.369226  1.000000 -0.308247 -0.189119   \n",
      "SibSp          -0.057527 -0.035322  0.083081 -0.308247  1.000000  0.414838   \n",
      "Parch          -0.001652  0.081629  0.018443 -0.189119  0.414838  1.000000   \n",
      "Fare            0.012658  0.257307 -0.549500  0.096067  0.159651  0.216225   \n",
      "\n",
      "                 Fare  \n",
      "PassengerId  0.012658  \n",
      "Survived     0.257307  \n",
      "Pclass      -0.549500  \n",
      "Age          0.096067  \n",
      "SibSp        0.159651  \n",
      "Parch        0.216225  \n",
      "Fare         1.000000  \n"
     ]
    }
   ],
   "source": [
    "#查看相关性矩阵\n",
    "corrDf = datum.corr() \n",
    "print(corrDf)"
   ]
  },
  {
   "cell_type": "code",
   "execution_count": 16,
   "metadata": {},
   "outputs": [
    {
     "name": "stdout",
     "output_type": "stream",
     "text": [
      "Survived       1.000000\n",
      "Fare           0.257307\n",
      "Parch          0.081629\n",
      "PassengerId   -0.005007\n",
      "SibSp         -0.035322\n",
      "Age           -0.077221\n",
      "Pclass        -0.338481\n",
      "Name: Survived, dtype: float64\n"
     ]
    }
   ],
   "source": [
    "print(corrDf['Survived'].sort_values(ascending =False))"
   ]
  },
  {
   "cell_type": "markdown",
   "metadata": {},
   "source": [
    "From the correlation matrix, we can delete PassengerId, SibSp since they are close to zero (from the figure we have ploted about the relationship between age density and survived, we can find there is relationship with age)."
   ]
  },
  {
   "cell_type": "code",
   "execution_count": 17,
   "metadata": {},
   "outputs": [],
   "source": [
    "sex_dummy = pd.get_dummies(datum.Sex, prefix='Sex')\n",
    "pclass_dummy = pd.get_dummies(datum.Pclass, prefix='Pclass')\n",
    "#print(sex_dummy.head())\n",
    "#print(pclass_dummy.head())"
   ]
  },
  {
   "cell_type": "code",
   "execution_count": 18,
   "metadata": {},
   "outputs": [],
   "source": [
    "new_datum.drop(['Sex', 'Pclass','PassengerId', 'Name', 'Age', 'SibSp', 'Ticket', 'Cabin', \n",
    "                'Embarked','Survived'], axis=1, inplace=True)\n",
    "#print(new_datum.head())"
   ]
  },
  {
   "cell_type": "code",
   "execution_count": 19,
   "metadata": {},
   "outputs": [
    {
     "name": "stderr",
     "output_type": "stream",
     "text": [
      "/home/huzhj/anaconda3/envs/kaggle/lib/python3.7/site-packages/sklearn/preprocessing/data.py:625: DataConversionWarning: Data with input dtype int64, float64 were all converted to float64 by StandardScaler.\n",
      "  return self.partial_fit(X, y)\n",
      "/home/huzhj/anaconda3/envs/kaggle/lib/python3.7/site-packages/ipykernel_launcher.py:5: DataConversionWarning: Data with input dtype int64, float64 were all converted to float64 by StandardScaler.\n",
      "  \"\"\"\n"
     ]
    }
   ],
   "source": [
    "from sklearn import preprocessing\n",
    "from sklearn.linear_model import LogisticRegression\n",
    "\n",
    "scaler = preprocessing.StandardScaler().fit(new_datum)\n",
    "new_datum = scaler.transform(new_datum)"
   ]
  },
  {
   "cell_type": "code",
   "execution_count": 20,
   "metadata": {},
   "outputs": [
    {
     "data": {
      "text/plain": [
       "(891,)"
      ]
     },
     "execution_count": 20,
     "metadata": {},
     "output_type": "execute_result"
    }
   ],
   "source": [
    "new_datum[:,0].shape"
   ]
  },
  {
   "cell_type": "code",
   "execution_count": 21,
   "metadata": {},
   "outputs": [
    {
     "name": "stdout",
     "output_type": "stream",
     "text": [
      "      Parch      Fare  Sex_female  Sex_male  Pclass_1  Pclass_2  Pclass_3\n",
      "0 -0.473674 -0.502445           0         1         0         0         1\n",
      "1 -0.473674  0.786845           1         0         1         0         0\n",
      "2 -0.473674 -0.488854           1         0         0         0         1\n",
      "3 -0.473674  0.420730           1         0         1         0         0\n",
      "4 -0.473674 -0.486337           0         1         0         0         1\n"
     ]
    }
   ],
   "source": [
    "new_datum = pd.DataFrame({'Parch': new_datum[:,0], 'Fare':new_datum[:,1]})\n",
    "new_datum = pd.concat([new_datum, sex_dummy, pclass_dummy], axis=1)\n",
    "print(new_datum.head())"
   ]
  },
  {
   "cell_type": "code",
   "execution_count": 22,
   "metadata": {},
   "outputs": [],
   "source": [
    "clf = LogisticRegression(random_state=0, solver='lbfgs', max_iter=200).fit(new_datum, datum.Survived)"
   ]
  },
  {
   "cell_type": "code",
   "execution_count": 23,
   "metadata": {},
   "outputs": [],
   "source": [
    "y_pred = clf.predict(new_datum)"
   ]
  },
  {
   "cell_type": "code",
   "execution_count": 24,
   "metadata": {},
   "outputs": [
    {
     "name": "stdout",
     "output_type": "stream",
     "text": [
      "straitified cross validation scores:[0.77441077 0.77777778 0.77104377]\n",
      "Mean score of straitified cross validation:0.77\n"
     ]
    }
   ],
   "source": [
    "from sklearn.model_selection import StratifiedKFold,cross_val_score\n",
    "strKFold = StratifiedKFold(n_splits=3,shuffle=False,random_state=0)\n",
    "scores = cross_val_score(clf, new_datum, datum.Survived, cv=strKFold)\n",
    "print(\"straitified cross validation scores:{}\".format(scores))\n",
    "print(\"Mean score of straitified cross validation:{:.2f}\".format(scores.mean()))"
   ]
  },
  {
   "cell_type": "markdown",
   "metadata": {},
   "source": [
    "The proprecess did not increase the performance.(Actually before proprecess, the cross validation is 0.78. :) )    \n",
    "### 有些情况不需要进行特征的归一化：\n",
    "  It depends on your ML algorithms, some methods requires almost no efforts to normalize features or handle both continuous and discrete features, like tree based methods: c4.5, Cart, random Forrest, bagging or boosting. But most of parametric models (generalized linear models, neural network, SVM,etc) or methods using distance metrics (KNN, kernels, etc) will require careful work to achieve good results. Standard approaches including binary all features, 0 mean unit variance all continuous features, etc."
   ]
  },
  {
   "cell_type": "markdown",
   "metadata": {},
   "source": [
    "https://yq.aliyun.com/articles/657187  \n",
    "Mark：如果其它特征变量与缺失变量无关，则预测的结果毫无意义。如果预测结果相当准确，则又说明这个变量完全没有必要进行预测，因为这必然是与特征变量间存在重复信息。一般情况下，会介于两者之间效果为最好，若强行填补缺失值之后引入了自相关，这会给后续分析造成障碍。  \n",
    "2. Filling the missing datum  \n",
    "2.1 Since Embarked only has two missing datum, we can use mode to fill it. "
   ]
  },
  {
   "cell_type": "code",
   "execution_count": 25,
   "metadata": {},
   "outputs": [
    {
     "name": "stdout",
     "output_type": "stream",
     "text": [
      "S    644\n",
      "C    168\n",
      "Q     77\n",
      "Name: Embarked, dtype: int64\n",
      "S    646\n",
      "C    168\n",
      "Q     77\n",
      "Name: Embarked, dtype: int64\n",
      "   Embarked_C  Embarked_Q  Embarked_S\n",
      "0           0           0           1\n",
      "1           1           0           0\n",
      "2           0           0           1\n",
      "3           0           0           1\n",
      "4           0           0           1\n"
     ]
    }
   ],
   "source": [
    "Embarked_dummy = datum.Embarked.copy()\n",
    "print(Embarked_dummy.value_counts())\n",
    "Embarked_dummy.fillna(datum.Embarked.mode()[0], inplace=True)\n",
    "print(Embarked_dummy.value_counts())\n",
    "Embarked_dummy = pd.get_dummies(Embarked_dummy, prefix='Embarked')\n",
    "print(Embarked_dummy.head())"
   ]
  },
  {
   "cell_type": "code",
   "execution_count": 26,
   "metadata": {},
   "outputs": [
    {
     "name": "stdout",
     "output_type": "stream",
     "text": [
      "      Parch      Fare  Sex_female  Sex_male  Pclass_1  Pclass_2  Pclass_3  \\\n",
      "0 -0.473674 -0.502445           0         1         0         0         1   \n",
      "1 -0.473674  0.786845           1         0         1         0         0   \n",
      "2 -0.473674 -0.488854           1         0         0         0         1   \n",
      "3 -0.473674  0.420730           1         0         1         0         0   \n",
      "4 -0.473674 -0.486337           0         1         0         0         1   \n",
      "\n",
      "   Embarked_C  Embarked_Q  Embarked_S  \n",
      "0           0           0           1  \n",
      "1           1           0           0  \n",
      "2           0           0           1  \n",
      "3           0           0           1  \n",
      "4           0           0           1  \n"
     ]
    }
   ],
   "source": [
    "new_datum = pd.concat([new_datum, Embarked_dummy], axis=1)\n",
    "print(new_datum.head())"
   ]
  },
  {
   "cell_type": "code",
   "execution_count": 27,
   "metadata": {},
   "outputs": [
    {
     "name": "stdout",
     "output_type": "stream",
     "text": [
      "straitified cross validation scores:[0.76430976 0.79124579 0.77104377]\n",
      "Mean score of straitified cross validation:0.78\n"
     ]
    }
   ],
   "source": [
    "clf = LogisticRegression(random_state=0, solver='lbfgs', max_iter=200).fit(new_datum, datum.Survived)\n",
    "strKFold = StratifiedKFold(n_splits=3,shuffle=False,random_state=0)\n",
    "scores = cross_val_score(clf, new_datum, datum.Survived, cv=strKFold)\n",
    "print(\"straitified cross validation scores:{}\".format(scores))\n",
    "print(\"Mean score of straitified cross validation:{:.2f}\".format(scores.mean()))"
   ]
  },
  {
   "cell_type": "markdown",
   "metadata": {},
   "source": [
    "Use random forest Regression to filling the missing datum ‘age’.  \n",
    "当样本量较少时，max_depth, min_samples_split, min_samples_leaf  \n",
    "如果特征不多时，max_leaf_nodes"
   ]
  },
  {
   "cell_type": "code",
   "execution_count": 28,
   "metadata": {},
   "outputs": [],
   "source": [
    "from sklearn.ensemble import RandomForestRegressor\n",
    "model_age = RandomForestRegressor(random_state=0, oob_score=True, n_estimators=1100,  max_features=7, \n",
    "                                  \n",
    "                                  criterion='mae')"
   ]
  },
  {
   "cell_type": "code",
   "execution_count": 29,
   "metadata": {},
   "outputs": [],
   "source": [
    "#from sklearn.ensemble import RandomForestRegressor\n",
    "#model_age = RandomForestRegressor(random_state=0, oob_score=True, n_estimators=1000,  max_features=7, \n",
    "#                                  max_depth=5, min_samples_split=10,\n",
    "#                                  criterion='mae')"
   ]
  },
  {
   "cell_type": "code",
   "execution_count": 30,
   "metadata": {},
   "outputs": [],
   "source": [
    "new_datum = pd.concat([datum.Age, new_datum], axis=1)\n",
    "Age_test = new_datum.loc[datum.Age.isnull()]\n",
    "Age_train = new_datum.loc[datum.Age.notnull()]"
   ]
  },
  {
   "cell_type": "code",
   "execution_count": 31,
   "metadata": {},
   "outputs": [
    {
     "name": "stdout",
     "output_type": "stream",
     "text": [
      "0.06022408963585434\n"
     ]
    }
   ],
   "source": [
    "import numpy as np\n",
    "model_age.fit(Age_train.values[:,1:], Age_train.Age)\n",
    "Age_train_pred = np.round( model_age.predict(Age_train.values[:,1:]) )\n",
    "print((Age_train_pred==Age_train.Age).sum()/Age_train.shape[0])\n",
    "#age_scores = cross_val_score(clf, Age_train, Age_train.Age, cv=strKFold)\n",
    "#print(\"straitified cross validation scores:{}\".format(age_scores))\n",
    "#print(\"Mean score of straitified cross validation:{:.2f}\".format(age_scores.mean()))"
   ]
  },
  {
   "cell_type": "code",
   "execution_count": 32,
   "metadata": {},
   "outputs": [],
   "source": [
    "#from sklearn.model_selection import GridSearchCV\n",
    "#param_test1 = {'n_estimators':range(800,1500,100),\n",
    "#              'max_depth':range(3,14,2), \n",
    "#              'min_samples_split':range(2, 23, 4),\n",
    "#              'max_features': range(2, 11, 2)}\n",
    "#gsearch1 = GridSearchCV(estimator = RandomForestRegressor(random_state=0, oob_score=True,\n",
    "#                                                         criterion='mae'), \n",
    "#                       param_grid = param_test1, cv=3, n_jobs=-1)\n",
    "#gsearch1.fit(Age_train.values[:,1:], Age_train.Age)\n",
    "#gsearch1.best_params_, gsearch1.best_score_"
   ]
  },
  {
   "cell_type": "code",
   "execution_count": 33,
   "metadata": {},
   "outputs": [],
   "source": [
    "#Age_train.describe()\n",
    "#print(np.sqrt(10))\n",
    "#for i in range(2,11,2):\n",
    "#    print(i)\n",
    "#fillage.shape"
   ]
  },
  {
   "cell_type": "code",
   "execution_count": 34,
   "metadata": {},
   "outputs": [],
   "source": [
    "fillage = model_age.predict(Age_test.values[:,1:])"
   ]
  },
  {
   "cell_type": "code",
   "execution_count": 35,
   "metadata": {},
   "outputs": [],
   "source": [
    "new_datum.loc[(new_datum.Age.isnull()), 'Age'] = np.round(fillage)"
   ]
  },
  {
   "cell_type": "code",
   "execution_count": 36,
   "metadata": {},
   "outputs": [
    {
     "name": "stdout",
     "output_type": "stream",
     "text": [
      "straitified cross validation scores:[0.78114478 0.78451178 0.79124579]\n",
      "Mean score of straitified cross validation:0.79\n"
     ]
    }
   ],
   "source": [
    "scores = cross_val_score(clf, new_datum, datum.Survived, cv=strKFold)\n",
    "print(\"straitified cross validation scores:{}\".format(scores))\n",
    "print(\"Mean score of straitified cross validation:{:.2f}\".format(scores.mean()))"
   ]
  },
  {
   "cell_type": "markdown",
   "metadata": {},
   "source": [
    "### 提取名字中的信息"
   ]
  },
  {
   "cell_type": "code",
   "execution_count": 37,
   "metadata": {},
   "outputs": [],
   "source": [
    "import re\n",
    "new_datum['Name_Title'] = datum['Name'].map(lambda x: \n",
    "                                            re.compile(\", (.*?)\\.\").findall(x)[0])\n",
    "title_Dict = {}\n",
    "title_Dict.update(dict.fromkeys(['Capt', 'Col', 'Major', 'Dr', 'Rev'], 'Officer'))\n",
    "title_Dict.update(dict.fromkeys(['Don', 'Sir', 'the Countess', 'Dona', 'Lady'], 'Royalty'))\n",
    "title_Dict.update(dict.fromkeys(['Mme', 'Ms', 'Mrs'], 'Mrs'))\n",
    "title_Dict.update(dict.fromkeys(['Mlle', 'Miss'], 'Miss'))\n",
    "title_Dict.update(dict.fromkeys(['Mr'], 'Mr'))\n",
    "title_Dict.update(dict.fromkeys(['Master','Jonkheer'], 'Master'))\n",
    "new_datum['Name_Title'] = new_datum['Name_Title'].map(title_Dict)\n",
    "dummies_title = pd.get_dummies(new_datum['Name_Title'], prefix=\"Name_Title\")\n",
    "new_datum = pd.concat([new_datum,dummies_title], axis=1)\n",
    "new_datum.drop(['Name_Title'], axis=1, inplace=True)"
   ]
  },
  {
   "cell_type": "code",
   "execution_count": 38,
   "metadata": {},
   "outputs": [
    {
     "name": "stdout",
     "output_type": "stream",
     "text": [
      "straitified cross validation scores:[0.78787879 0.82828283 0.80808081]\n",
      "Mean score of straitified cross validation:0.81\n"
     ]
    }
   ],
   "source": [
    "clf = LogisticRegression(random_state=0, solver='lbfgs', max_iter=500).fit(new_datum, datum.Survived)\n",
    "scores = cross_val_score(clf, new_datum, datum.Survived, cv=strKFold)\n",
    "print(\"straitified cross validation scores:{}\".format(scores))\n",
    "print(\"Mean score of straitified cross validation:{:.2f}\".format(scores.mean()))"
   ]
  },
  {
   "cell_type": "code",
   "execution_count": 39,
   "metadata": {},
   "outputs": [
    {
     "name": "stderr",
     "output_type": "stream",
     "text": [
      "/home/huzhj/anaconda3/envs/kaggle/lib/python3.7/site-packages/sklearn/model_selection/_split.py:2053: FutureWarning: You should specify a value for 'cv' instead of relying on the default value. The default value will change from 3 to 5 in version 0.22.\n",
      "  warnings.warn(CV_WARNING, FutureWarning)\n"
     ]
    },
    {
     "data": {
      "image/png": "[encoded data removed]",
      "text/plain": [
       "<Figure size 432x288 with 1 Axes>"
      ]
     },
     "metadata": {
      "needs_background": "light"
     },
     "output_type": "display_data"
    },
    {
     "data": {
      "text/plain": [
       "(0.8136393865377909, 0.04410691775953046)"
      ]
     },
     "execution_count": 39,
     "metadata": {},
     "output_type": "execute_result"
    },
    {
     "data": {
      "image/png": "[encoded data removed]",
      "text/plain": [
       "<Figure size 432x288 with 1 Axes>"
      ]
     },
     "metadata": {
      "needs_background": "light"
     },
     "output_type": "display_data"
    }
   ],
   "source": [
    "import numpy as np\n",
    "import matplotlib.pyplot as plt\n",
    "from sklearn.model_selection import learning_curve\n",
    "\n",
    "# 用sklearn的learning_curve得到training_score和cv_score，使用matplotlib画出learning curve\n",
    "def plot_learning_curve(estimator, title, X, y, ylim=None, cv=None, n_jobs=1, \n",
    "                        train_sizes=np.linspace(.05, 1., 20), verbose=0, plot=True):\n",
    "    \"\"\"\n",
    "    画出data在某模型上的learning curve.\n",
    "    参数解释\n",
    "    ----------\n",
    "    estimator : 你用的分类器。\n",
    "    title : 表格的标题。\n",
    "    X : 输入的feature，numpy类型\n",
    "    y : 输入的target vector\n",
    "    ylim : tuple格式的(ymin, ymax), 设定图像中纵坐标的最低点和最高点\n",
    "    cv : 做cross-validation的时候，数据分成的份数，其中一份作为cv集，其余n-1份作为training(默认为3份)\n",
    "    n_jobs : 并行的的任务数(默认1)\n",
    "    \"\"\"\n",
    "    train_sizes, train_scores, test_scores = learning_curve(\n",
    "        estimator, X, y, cv=cv, n_jobs=n_jobs, train_sizes=train_sizes, verbose=verbose)\n",
    "\n",
    "    train_scores_mean = np.mean(train_scores, axis=1)\n",
    "    train_scores_std = np.std(train_scores, axis=1)\n",
    "    test_scores_mean = np.mean(test_scores, axis=1)\n",
    "    test_scores_std = np.std(test_scores, axis=1)\n",
    "\n",
    "    if plot:\n",
    "        plt.figure()\n",
    "        plt.title(title)\n",
    "        if ylim is not None:\n",
    "            plt.ylim(*ylim)\n",
    "        #plt.xlabel(u\"训练样本数\")\n",
    "        #plt.ylabel(u\"得分\")\n",
    "        plt.xlabel(\"traning samples number\")\n",
    "        plt.ylabel('scores')\n",
    "        plt.gca().invert_yaxis()\n",
    "        plt.grid()\n",
    "\n",
    "        plt.fill_between(train_sizes, train_scores_mean - train_scores_std, train_scores_mean + train_scores_std, \n",
    "                         alpha=0.1, color=\"b\")\n",
    "        plt.fill_between(train_sizes, test_scores_mean - test_scores_std, test_scores_mean + test_scores_std, \n",
    "                         alpha=0.1, color=\"r\")\n",
    "        plt.plot(train_sizes, train_scores_mean, 'o-', color=\"b\", label=\"scores on training set\")\n",
    "        plt.plot(train_sizes, test_scores_mean, 'o-', color=\"r\", label=\"scores on cross validation\")\n",
    "\n",
    "        plt.legend(loc=\"best\")\n",
    "\n",
    "        plt.draw()\n",
    "        plt.show()\n",
    "        plt.gca().invert_yaxis()\n",
    "\n",
    "    midpoint = ((train_scores_mean[-1] + train_scores_std[-1]) + (test_scores_mean[-1] - test_scores_std[-1])) / 2\n",
    "    diff = (train_scores_mean[-1] + train_scores_std[-1]) - (test_scores_mean[-1] - test_scores_std[-1])\n",
    "    return midpoint, diff\n",
    "\n",
    "plot_learning_curve(clf, u\"学习曲线\", new_datum, datum.Survived)\n"
   ]
  },
  {
   "cell_type": "markdown",
   "metadata": {},
   "source": [
    "### 测试集"
   ]
  },
  {
   "cell_type": "code",
   "execution_count": 40,
   "metadata": {},
   "outputs": [
    {
     "data": {
      "text/html": [
       "<div>\n",
       "<style scoped>\n",
       "    .dataframe tbody tr th:only-of-type {\n",
       "        vertical-align: middle;\n",
       "    }\n",
       "\n",
       "    .dataframe tbody tr th {\n",
       "        vertical-align: top;\n",
       "    }\n",
       "\n",
       "    .dataframe thead th {\n",
       "        text-align: right;\n",
       "    }\n",
       "</style>\n",
       "<table border=\"1\" class=\"dataframe\">\n",
       "  <thead>\n",
       "    <tr style=\"text-align: right;\">\n",
       "      <th></th>\n",
       "      <th>PassengerId</th>\n",
       "      <th>Pclass</th>\n",
       "      <th>Name</th>\n",
       "      <th>Sex</th>\n",
       "      <th>Age</th>\n",
       "      <th>SibSp</th>\n",
       "      <th>Parch</th>\n",
       "      <th>Ticket</th>\n",
       "      <th>Fare</th>\n",
       "      <th>Cabin</th>\n",
       "      <th>Embarked</th>\n",
       "    </tr>\n",
       "  </thead>\n",
       "  <tbody>\n",
       "    <tr>\n",
       "      <th>0</th>\n",
       "      <td>892</td>\n",
       "      <td>3</td>\n",
       "      <td>Kelly, Mr. James</td>\n",
       "      <td>male</td>\n",
       "      <td>34.5</td>\n",
       "      <td>0</td>\n",
       "      <td>0</td>\n",
       "      <td>330911</td>\n",
       "      <td>7.8292</td>\n",
       "      <td>NaN</td>\n",
       "      <td>Q</td>\n",
       "    </tr>\n",
       "    <tr>\n",
       "      <th>1</th>\n",
       "      <td>893</td>\n",
       "      <td>3</td>\n",
       "      <td>Wilkes, Mrs. James (Ellen Needs)</td>\n",
       "      <td>female</td>\n",
       "      <td>47.0</td>\n",
       "      <td>1</td>\n",
       "      <td>0</td>\n",
       "      <td>363272</td>\n",
       "      <td>7.0000</td>\n",
       "      <td>NaN</td>\n",
       "      <td>S</td>\n",
       "    </tr>\n",
       "    <tr>\n",
       "      <th>2</th>\n",
       "      <td>894</td>\n",
       "      <td>2</td>\n",
       "      <td>Myles, Mr. Thomas Francis</td>\n",
       "      <td>male</td>\n",
       "      <td>62.0</td>\n",
       "      <td>0</td>\n",
       "      <td>0</td>\n",
       "      <td>240276</td>\n",
       "      <td>9.6875</td>\n",
       "      <td>NaN</td>\n",
       "      <td>Q</td>\n",
       "    </tr>\n",
       "    <tr>\n",
       "      <th>3</th>\n",
       "      <td>895</td>\n",
       "      <td>3</td>\n",
       "      <td>Wirz, Mr. Albert</td>\n",
       "      <td>male</td>\n",
       "      <td>27.0</td>\n",
       "      <td>0</td>\n",
       "      <td>0</td>\n",
       "      <td>315154</td>\n",
       "      <td>8.6625</td>\n",
       "      <td>NaN</td>\n",
       "      <td>S</td>\n",
       "    </tr>\n",
       "    <tr>\n",
       "      <th>4</th>\n",
       "      <td>896</td>\n",
       "      <td>3</td>\n",
       "      <td>Hirvonen, Mrs. Alexander (Helga E Lindqvist)</td>\n",
       "      <td>female</td>\n",
       "      <td>22.0</td>\n",
       "      <td>1</td>\n",
       "      <td>1</td>\n",
       "      <td>3101298</td>\n",
       "      <td>12.2875</td>\n",
       "      <td>NaN</td>\n",
       "      <td>S</td>\n",
       "    </tr>\n",
       "  </tbody>\n",
       "</table>\n",
       "</div>"
      ],
      "text/plain": [
       "   PassengerId  Pclass                                          Name     Sex  \\\n",
       "0          892       3                              Kelly, Mr. James    male   \n",
       "1          893       3              Wilkes, Mrs. James (Ellen Needs)  female   \n",
       "2          894       2                     Myles, Mr. Thomas Francis    male   \n",
       "3          895       3                              Wirz, Mr. Albert    male   \n",
       "4          896       3  Hirvonen, Mrs. Alexander (Helga E Lindqvist)  female   \n",
       "\n",
       "    Age  SibSp  Parch   Ticket     Fare Cabin Embarked  \n",
       "0  34.5      0      0   330911   7.8292   NaN        Q  \n",
       "1  47.0      1      0   363272   7.0000   NaN        S  \n",
       "2  62.0      0      0   240276   9.6875   NaN        Q  \n",
       "3  27.0      0      0   315154   8.6625   NaN        S  \n",
       "4  22.0      1      1  3101298  12.2875   NaN        S  "
      ]
     },
     "execution_count": 40,
     "metadata": {},
     "output_type": "execute_result"
    }
   ],
   "source": [
    "test_datum = pd.read_csv(\"test.csv\")\n",
    "test_datum.head()"
   ]
  },
  {
   "cell_type": "code",
   "execution_count": 41,
   "metadata": {},
   "outputs": [
    {
     "data": {
      "text/html": [
       "<div>\n",
       "<style scoped>\n",
       "    .dataframe tbody tr th:only-of-type {\n",
       "        vertical-align: middle;\n",
       "    }\n",
       "\n",
       "    .dataframe tbody tr th {\n",
       "        vertical-align: top;\n",
       "    }\n",
       "\n",
       "    .dataframe thead th {\n",
       "        text-align: right;\n",
       "    }\n",
       "</style>\n",
       "<table border=\"1\" class=\"dataframe\">\n",
       "  <thead>\n",
       "    <tr style=\"text-align: right;\">\n",
       "      <th></th>\n",
       "      <th>PassengerId</th>\n",
       "      <th>Pclass</th>\n",
       "      <th>Age</th>\n",
       "      <th>SibSp</th>\n",
       "      <th>Parch</th>\n",
       "      <th>Fare</th>\n",
       "    </tr>\n",
       "  </thead>\n",
       "  <tbody>\n",
       "    <tr>\n",
       "      <th>count</th>\n",
       "      <td>418.000000</td>\n",
       "      <td>418.000000</td>\n",
       "      <td>332.000000</td>\n",
       "      <td>418.000000</td>\n",
       "      <td>418.000000</td>\n",
       "      <td>417.000000</td>\n",
       "    </tr>\n",
       "    <tr>\n",
       "      <th>mean</th>\n",
       "      <td>1100.500000</td>\n",
       "      <td>2.265550</td>\n",
       "      <td>30.272590</td>\n",
       "      <td>0.447368</td>\n",
       "      <td>0.392344</td>\n",
       "      <td>35.627188</td>\n",
       "    </tr>\n",
       "    <tr>\n",
       "      <th>std</th>\n",
       "      <td>120.810458</td>\n",
       "      <td>0.841838</td>\n",
       "      <td>14.181209</td>\n",
       "      <td>0.896760</td>\n",
       "      <td>0.981429</td>\n",
       "      <td>55.907576</td>\n",
       "    </tr>\n",
       "    <tr>\n",
       "      <th>min</th>\n",
       "      <td>892.000000</td>\n",
       "      <td>1.000000</td>\n",
       "      <td>0.170000</td>\n",
       "      <td>0.000000</td>\n",
       "      <td>0.000000</td>\n",
       "      <td>0.000000</td>\n",
       "    </tr>\n",
       "    <tr>\n",
       "      <th>25%</th>\n",
       "      <td>996.250000</td>\n",
       "      <td>1.000000</td>\n",
       "      <td>21.000000</td>\n",
       "      <td>0.000000</td>\n",
       "      <td>0.000000</td>\n",
       "      <td>7.895800</td>\n",
       "    </tr>\n",
       "    <tr>\n",
       "      <th>50%</th>\n",
       "      <td>1100.500000</td>\n",
       "      <td>3.000000</td>\n",
       "      <td>27.000000</td>\n",
       "      <td>0.000000</td>\n",
       "      <td>0.000000</td>\n",
       "      <td>14.454200</td>\n",
       "    </tr>\n",
       "    <tr>\n",
       "      <th>75%</th>\n",
       "      <td>1204.750000</td>\n",
       "      <td>3.000000</td>\n",
       "      <td>39.000000</td>\n",
       "      <td>1.000000</td>\n",
       "      <td>0.000000</td>\n",
       "      <td>31.500000</td>\n",
       "    </tr>\n",
       "    <tr>\n",
       "      <th>max</th>\n",
       "      <td>1309.000000</td>\n",
       "      <td>3.000000</td>\n",
       "      <td>76.000000</td>\n",
       "      <td>8.000000</td>\n",
       "      <td>9.000000</td>\n",
       "      <td>512.329200</td>\n",
       "    </tr>\n",
       "  </tbody>\n",
       "</table>\n",
       "</div>"
      ],
      "text/plain": [
       "       PassengerId      Pclass         Age       SibSp       Parch        Fare\n",
       "count   418.000000  418.000000  332.000000  418.000000  418.000000  417.000000\n",
       "mean   1100.500000    2.265550   30.272590    0.447368    0.392344   35.627188\n",
       "std     120.810458    0.841838   14.181209    0.896760    0.981429   55.907576\n",
       "min     892.000000    1.000000    0.170000    0.000000    0.000000    0.000000\n",
       "25%     996.250000    1.000000   21.000000    0.000000    0.000000    7.895800\n",
       "50%    1100.500000    3.000000   27.000000    0.000000    0.000000   14.454200\n",
       "75%    1204.750000    3.000000   39.000000    1.000000    0.000000   31.500000\n",
       "max    1309.000000    3.000000   76.000000    8.000000    9.000000  512.329200"
      ]
     },
     "execution_count": 41,
     "metadata": {},
     "output_type": "execute_result"
    }
   ],
   "source": [
    "test_datum.describe()"
   ]
  },
  {
   "cell_type": "code",
   "execution_count": 42,
   "metadata": {},
   "outputs": [
    {
     "name": "stdout",
     "output_type": "stream",
     "text": [
      "<class 'pandas.core.frame.DataFrame'>\n",
      "RangeIndex: 418 entries, 0 to 417\n",
      "Data columns (total 11 columns):\n",
      "PassengerId    418 non-null int64\n",
      "Pclass         418 non-null int64\n",
      "Name           418 non-null object\n",
      "Sex            418 non-null object\n",
      "Age            332 non-null float64\n",
      "SibSp          418 non-null int64\n",
      "Parch          418 non-null int64\n",
      "Ticket         418 non-null object\n",
      "Fare           417 non-null float64\n",
      "Cabin          91 non-null object\n",
      "Embarked       418 non-null object\n",
      "dtypes: float64(2), int64(4), object(5)\n",
      "memory usage: 36.0+ KB\n"
     ]
    }
   ],
   "source": [
    "test_datum.info()"
   ]
  },
  {
   "cell_type": "code",
   "execution_count": 43,
   "metadata": {},
   "outputs": [
    {
     "data": {
      "text/plain": [
       "RangeIndex(start=0, stop=418, step=1)"
      ]
     },
     "execution_count": 43,
     "metadata": {},
     "output_type": "execute_result"
    }
   ],
   "source": [
    "test_datum.index"
   ]
  },
  {
   "cell_type": "code",
   "execution_count": 44,
   "metadata": {},
   "outputs": [],
   "source": [
    "df = test_datum.copy()\n",
    "df.drop(['Sex', 'Pclass','PassengerId', 'Name', 'Age', 'SibSp', 'Ticket', 'Cabin', \n",
    "                'Embarked'], axis=1, inplace=True)"
   ]
  },
  {
   "cell_type": "code",
   "execution_count": 45,
   "metadata": {},
   "outputs": [],
   "source": [
    "#df = scaler.transform(df)"
   ]
  },
  {
   "cell_type": "code",
   "execution_count": 46,
   "metadata": {},
   "outputs": [
    {
     "data": {
      "text/html": [
       "<div>\n",
       "<style scoped>\n",
       "    .dataframe tbody tr th:only-of-type {\n",
       "        vertical-align: middle;\n",
       "    }\n",
       "\n",
       "    .dataframe tbody tr th {\n",
       "        vertical-align: top;\n",
       "    }\n",
       "\n",
       "    .dataframe thead th {\n",
       "        text-align: right;\n",
       "    }\n",
       "</style>\n",
       "<table border=\"1\" class=\"dataframe\">\n",
       "  <thead>\n",
       "    <tr style=\"text-align: right;\">\n",
       "      <th></th>\n",
       "      <th>Parch</th>\n",
       "      <th>Fare</th>\n",
       "      <th>Sex_female</th>\n",
       "      <th>Sex_male</th>\n",
       "      <th>Pclass_1</th>\n",
       "      <th>Pclass_2</th>\n",
       "      <th>Pclass_3</th>\n",
       "      <th>Embarked_C</th>\n",
       "      <th>Embarked_Q</th>\n",
       "      <th>Embarked_S</th>\n",
       "    </tr>\n",
       "  </thead>\n",
       "  <tbody>\n",
       "    <tr>\n",
       "      <th>0</th>\n",
       "      <td>0</td>\n",
       "      <td>7.8292</td>\n",
       "      <td>0</td>\n",
       "      <td>1</td>\n",
       "      <td>0</td>\n",
       "      <td>0</td>\n",
       "      <td>1</td>\n",
       "      <td>0</td>\n",
       "      <td>1</td>\n",
       "      <td>0</td>\n",
       "    </tr>\n",
       "    <tr>\n",
       "      <th>1</th>\n",
       "      <td>0</td>\n",
       "      <td>7.0000</td>\n",
       "      <td>1</td>\n",
       "      <td>0</td>\n",
       "      <td>0</td>\n",
       "      <td>0</td>\n",
       "      <td>1</td>\n",
       "      <td>0</td>\n",
       "      <td>0</td>\n",
       "      <td>1</td>\n",
       "    </tr>\n",
       "    <tr>\n",
       "      <th>2</th>\n",
       "      <td>0</td>\n",
       "      <td>9.6875</td>\n",
       "      <td>0</td>\n",
       "      <td>1</td>\n",
       "      <td>0</td>\n",
       "      <td>1</td>\n",
       "      <td>0</td>\n",
       "      <td>0</td>\n",
       "      <td>1</td>\n",
       "      <td>0</td>\n",
       "    </tr>\n",
       "    <tr>\n",
       "      <th>3</th>\n",
       "      <td>0</td>\n",
       "      <td>8.6625</td>\n",
       "      <td>0</td>\n",
       "      <td>1</td>\n",
       "      <td>0</td>\n",
       "      <td>0</td>\n",
       "      <td>1</td>\n",
       "      <td>0</td>\n",
       "      <td>0</td>\n",
       "      <td>1</td>\n",
       "    </tr>\n",
       "    <tr>\n",
       "      <th>4</th>\n",
       "      <td>1</td>\n",
       "      <td>12.2875</td>\n",
       "      <td>1</td>\n",
       "      <td>0</td>\n",
       "      <td>0</td>\n",
       "      <td>0</td>\n",
       "      <td>1</td>\n",
       "      <td>0</td>\n",
       "      <td>0</td>\n",
       "      <td>1</td>\n",
       "    </tr>\n",
       "  </tbody>\n",
       "</table>\n",
       "</div>"
      ],
      "text/plain": [
       "   Parch     Fare  Sex_female  Sex_male  Pclass_1  Pclass_2  Pclass_3  \\\n",
       "0      0   7.8292           0         1         0         0         1   \n",
       "1      0   7.0000           1         0         0         0         1   \n",
       "2      0   9.6875           0         1         0         1         0   \n",
       "3      0   8.6625           0         1         0         0         1   \n",
       "4      1  12.2875           1         0         0         0         1   \n",
       "\n",
       "   Embarked_C  Embarked_Q  Embarked_S  \n",
       "0           0           1           0  \n",
       "1           0           0           1  \n",
       "2           0           1           0  \n",
       "3           0           0           1  \n",
       "4           0           0           1  "
      ]
     },
     "execution_count": 46,
     "metadata": {},
     "output_type": "execute_result"
    }
   ],
   "source": [
    "#df = pd.DataFrame({'Parch': df[:,0], 'Fare':df[:,1]})\n",
    "df_sex_dummy = pd.get_dummies(test_datum.Sex, prefix='Sex')\n",
    "df_pclass_dummy = pd.get_dummies(test_datum.Pclass, prefix='Pclass')\n",
    "df_embarked_dummy = pd.get_dummies(test_datum.Embarked, prefix='Embarked')\n",
    "df = pd.concat([df, df_sex_dummy, df_pclass_dummy, df_embarked_dummy], axis=1)\n",
    "df.head()"
   ]
  },
  {
   "cell_type": "code",
   "execution_count": 47,
   "metadata": {},
   "outputs": [],
   "source": [
    "df = pd.concat([test_datum.Age, df], axis=1)\n",
    "df_Age_test = df.loc[df.Age.isnull()]"
   ]
  },
  {
   "cell_type": "code",
   "execution_count": 48,
   "metadata": {},
   "outputs": [
    {
     "data": {
      "text/html": [
       "<div>\n",
       "<style scoped>\n",
       "    .dataframe tbody tr th:only-of-type {\n",
       "        vertical-align: middle;\n",
       "    }\n",
       "\n",
       "    .dataframe tbody tr th {\n",
       "        vertical-align: top;\n",
       "    }\n",
       "\n",
       "    .dataframe thead th {\n",
       "        text-align: right;\n",
       "    }\n",
       "</style>\n",
       "<table border=\"1\" class=\"dataframe\">\n",
       "  <thead>\n",
       "    <tr style=\"text-align: right;\">\n",
       "      <th></th>\n",
       "      <th>Age</th>\n",
       "      <th>Parch</th>\n",
       "      <th>Fare</th>\n",
       "      <th>Sex_female</th>\n",
       "      <th>Sex_male</th>\n",
       "      <th>Pclass_1</th>\n",
       "      <th>Pclass_2</th>\n",
       "      <th>Pclass_3</th>\n",
       "      <th>Embarked_C</th>\n",
       "      <th>Embarked_Q</th>\n",
       "      <th>Embarked_S</th>\n",
       "    </tr>\n",
       "  </thead>\n",
       "  <tbody>\n",
       "    <tr>\n",
       "      <th>0</th>\n",
       "      <td>34.5</td>\n",
       "      <td>0</td>\n",
       "      <td>7.8292</td>\n",
       "      <td>0</td>\n",
       "      <td>1</td>\n",
       "      <td>0</td>\n",
       "      <td>0</td>\n",
       "      <td>1</td>\n",
       "      <td>0</td>\n",
       "      <td>1</td>\n",
       "      <td>0</td>\n",
       "    </tr>\n",
       "    <tr>\n",
       "      <th>1</th>\n",
       "      <td>47.0</td>\n",
       "      <td>0</td>\n",
       "      <td>7.0000</td>\n",
       "      <td>1</td>\n",
       "      <td>0</td>\n",
       "      <td>0</td>\n",
       "      <td>0</td>\n",
       "      <td>1</td>\n",
       "      <td>0</td>\n",
       "      <td>0</td>\n",
       "      <td>1</td>\n",
       "    </tr>\n",
       "    <tr>\n",
       "      <th>2</th>\n",
       "      <td>62.0</td>\n",
       "      <td>0</td>\n",
       "      <td>9.6875</td>\n",
       "      <td>0</td>\n",
       "      <td>1</td>\n",
       "      <td>0</td>\n",
       "      <td>1</td>\n",
       "      <td>0</td>\n",
       "      <td>0</td>\n",
       "      <td>1</td>\n",
       "      <td>0</td>\n",
       "    </tr>\n",
       "    <tr>\n",
       "      <th>3</th>\n",
       "      <td>27.0</td>\n",
       "      <td>0</td>\n",
       "      <td>8.6625</td>\n",
       "      <td>0</td>\n",
       "      <td>1</td>\n",
       "      <td>0</td>\n",
       "      <td>0</td>\n",
       "      <td>1</td>\n",
       "      <td>0</td>\n",
       "      <td>0</td>\n",
       "      <td>1</td>\n",
       "    </tr>\n",
       "    <tr>\n",
       "      <th>4</th>\n",
       "      <td>22.0</td>\n",
       "      <td>1</td>\n",
       "      <td>12.2875</td>\n",
       "      <td>1</td>\n",
       "      <td>0</td>\n",
       "      <td>0</td>\n",
       "      <td>0</td>\n",
       "      <td>1</td>\n",
       "      <td>0</td>\n",
       "      <td>0</td>\n",
       "      <td>1</td>\n",
       "    </tr>\n",
       "  </tbody>\n",
       "</table>\n",
       "</div>"
      ],
      "text/plain": [
       "    Age  Parch     Fare  Sex_female  Sex_male  Pclass_1  Pclass_2  Pclass_3  \\\n",
       "0  34.5      0   7.8292           0         1         0         0         1   \n",
       "1  47.0      0   7.0000           1         0         0         0         1   \n",
       "2  62.0      0   9.6875           0         1         0         1         0   \n",
       "3  27.0      0   8.6625           0         1         0         0         1   \n",
       "4  22.0      1  12.2875           1         0         0         0         1   \n",
       "\n",
       "   Embarked_C  Embarked_Q  Embarked_S  \n",
       "0           0           1           0  \n",
       "1           0           0           1  \n",
       "2           0           1           0  \n",
       "3           0           0           1  \n",
       "4           0           0           1  "
      ]
     },
     "execution_count": 48,
     "metadata": {},
     "output_type": "execute_result"
    }
   ],
   "source": [
    "df_fillage = model_age.predict(df_Age_test.values[:,1:])\n",
    "df.loc[(df.Age.isnull()), 'Age'] = np.round(df_fillage)\n",
    "df.head()"
   ]
  },
  {
   "cell_type": "code",
   "execution_count": 49,
   "metadata": {},
   "outputs": [],
   "source": [
    "df['Name_Title'] = test_datum['Name'].map(lambda x: \n",
    "                                            re.compile(\", (.*?)\\.\").findall(x)[0])\n",
    "df['Name_Title'] = df['Name_Title'].map(title_Dict)\n",
    "df_title_dummies = pd.get_dummies(df['Name_Title'], prefix='Name_Title')\n",
    "df = pd.concat([df,df_title_dummies], axis=1)\n",
    "df.drop(['Name_Title'], axis=1, inplace=True)"
   ]
  },
  {
   "cell_type": "code",
   "execution_count": 50,
   "metadata": {},
   "outputs": [
    {
     "name": "stdout",
     "output_type": "stream",
     "text": [
      "<class 'pandas.core.frame.DataFrame'>\n",
      "RangeIndex: 418 entries, 0 to 417\n",
      "Data columns (total 17 columns):\n",
      "Age                   418 non-null float64\n",
      "Parch                 418 non-null int64\n",
      "Fare                  418 non-null float64\n",
      "Sex_female            418 non-null uint8\n",
      "Sex_male              418 non-null uint8\n",
      "Pclass_1              418 non-null uint8\n",
      "Pclass_2              418 non-null uint8\n",
      "Pclass_3              418 non-null uint8\n",
      "Embarked_C            418 non-null uint8\n",
      "Embarked_Q            418 non-null uint8\n",
      "Embarked_S            418 non-null uint8\n",
      "Name_Title_Master     418 non-null uint8\n",
      "Name_Title_Miss       418 non-null uint8\n",
      "Name_Title_Mr         418 non-null uint8\n",
      "Name_Title_Mrs        418 non-null uint8\n",
      "Name_Title_Officer    418 non-null uint8\n",
      "Name_Title_Royalty    418 non-null uint8\n",
      "dtypes: float64(2), int64(1), uint8(14)\n",
      "memory usage: 15.6 KB\n"
     ]
    }
   ],
   "source": [
    "df.Fare.fillna(df.Fare.mode()[0], inplace=True)\n",
    "df.info()"
   ]
  },
  {
   "cell_type": "code",
   "execution_count": 51,
   "metadata": {},
   "outputs": [],
   "source": [
    "df_survived = clf.predict(df)"
   ]
  },
  {
   "cell_type": "code",
   "execution_count": 52,
   "metadata": {},
   "outputs": [
    {
     "name": "stderr",
     "output_type": "stream",
     "text": [
      "/home/huzhj/anaconda3/envs/kaggle/lib/python3.7/site-packages/ipykernel_launcher.py:1: FutureWarning: Method .as_matrix will be removed in a future version. Use .values instead.\n",
      "  \"\"\"Entry point for launching an IPython kernel.\n"
     ]
    }
   ],
   "source": [
    "result = pd.DataFrame({'PassengerId':test_datum['PassengerId'].as_matrix(), \n",
    "                       'Survived':df_survived.astype(np.int32)})\n",
    "result.to_csv(\"result.csv\", index=False)"
   ]
  },
  {
   "cell_type": "markdown",
   "metadata": {},
   "source": [
    "在baseline中，提交的代码（测试集）中跑了0.77的正确率。  \n",
    "以上仅是对类别变量做哑变量处理，对Age用随机森林进行了补全。忽略了Parch,Sibsp变量的影响，且对Fare的处理太过粗糙；在模型选择上只是用了逻辑回归跑了结果。接下来进行特征工程及模型优化调参。"
   ]
  },
  {
   "cell_type": "markdown",
   "metadata": {},
   "source": [
    "### 特征工程"
   ]
  },
  {
   "cell_type": "code",
   "execution_count": 53,
   "metadata": {},
   "outputs": [],
   "source": [
    "test_datum[\"Survived\"] = 0\n",
    "combine_train_test = datum.append(test_datum,sort=False)"
   ]
  },
  {
   "cell_type": "markdown",
   "metadata": {},
   "source": [
    "#### (1) Embarked, Sex\n",
    "同上，Embarked 用众数补全，Sex哑变量处理  "
   ]
  },
  {
   "cell_type": "code",
   "execution_count": 54,
   "metadata": {},
   "outputs": [],
   "source": [
    "combine_train_test.Embarked.fillna(combine_train_test.Embarked.mode().iloc[0], inplace=True)\n",
    "combine_train_test[\"Embarked\"] = pd.factorize(combine_train_test.Embarked)[0]"
   ]
  },
  {
   "cell_type": "code",
   "execution_count": 55,
   "metadata": {},
   "outputs": [],
   "source": [
    "combine_train_test[\"Sex\"] = pd.factorize(combine_train_test.Sex)[0]"
   ]
  },
  {
   "cell_type": "markdown",
   "metadata": {},
   "source": [
    "#### (2) Name\n",
    "Name 中包含了性别，年龄信息；仔细思考，可能还会有些贵族姓氏，即包含身份地位信息，如：Dr,、Lady、Major、Master等的称呼。身份尊贵的人可能生存率高些。观察不同称呼对生存率的影响。"
   ]
  },
  {
   "cell_type": "code",
   "execution_count": 56,
   "metadata": {},
   "outputs": [
    {
     "data": {
      "text/plain": [
       "<matplotlib.axes._subplots.AxesSubplot at 0x7ff3a0456470>"
      ]
     },
     "execution_count": 56,
     "metadata": {},
     "output_type": "execute_result"
    },
    {
     "data": {
      "image/png": "[encoded data removed]",
      "text/plain": [
       "<Figure size 432x288 with 1 Axes>"
      ]
     },
     "metadata": {
      "needs_background": "light"
     },
     "output_type": "display_data"
    }
   ],
   "source": [
    "new_datum['Name_Title'] = datum['Name'].map(lambda x: \n",
    "                                            re.compile(\", (.*?)\\.\").findall(x)[0])\n",
    "new_datum['Name_Title'] = new_datum['Name_Title'].map(title_Dict)\n",
    "new_datum = pd.concat([datum.Survived, new_datum], axis=1)\n",
    "new_datum[['Name_Title', 'Survived']].groupby(['Name_Title']).mean().plot.bar()"
   ]
  },
  {
   "cell_type": "code",
   "execution_count": 57,
   "metadata": {},
   "outputs": [
    {
     "data": {
      "text/plain": [
       "<matplotlib.axes._subplots.AxesSubplot at 0x7ff3a0441240>"
      ]
     },
     "execution_count": 57,
     "metadata": {},
     "output_type": "execute_result"
    },
    {
     "data": {
      "image/png": "[encoded data removed]",
      "text/plain": [
       "<Figure size 432x288 with 1 Axes>"
      ]
     },
     "metadata": {
      "needs_background": "light"
     },
     "output_type": "display_data"
    }
   ],
   "source": [
    "new_datum_1 = new_datum.copy()\n",
    "new_datum_1.drop(['Name_Title_Master','Name_Title_Miss','Name_Title_Mr', 'Name_Title_Mrs',\n",
    "                 'Name_Title_Officer','Name_Title_Royalty','Name_Title'], axis=1,\n",
    "                 inplace=True)\n",
    "new_datum_1 = pd.concat([new_datum_1, datum['Name']], axis=1)\n",
    "new_datum_1['Name_Title'] = new_datum_1['Name'].str.extract('([a-zA-Z]+)\\.', expand=False)\n",
    "new_datum_1[['Name_Title','Survived']].groupby(['Name_Title']).mean().plot.bar()"
   ]
  },
  {
   "cell_type": "code",
   "execution_count": 58,
   "metadata": {},
   "outputs": [
    {
     "data": {
      "image/png": "[encoded data removed]",
      "text/plain": [
       "<Figure size 1008x504 with 1 Axes>"
      ]
     },
     "metadata": {
      "needs_background": "light"
     },
     "output_type": "display_data"
    }
   ],
   "source": [
    "# 名字长度与生存率关系\n",
    "import seaborn as sns\n",
    "plt.figure(figsize=(14,7))\n",
    "new_datum_1['Name_length'] = new_datum_1['Name'].apply(len)\n",
    "name_length = new_datum_1[['Name_length','Survived']].groupby(['Name_length'], \n",
    "                                                              as_index=False).mean()\n",
    "sns.barplot(x='Name_length', y='Survived',data=name_length)\n",
    "new_datum_1.drop(['Name'],axis=1,inplace=True)"
   ]
  },
  {
   "cell_type": "code",
   "execution_count": 59,
   "metadata": {},
   "outputs": [],
   "source": [
    "combine_train_test['Name_Title'] = combine_train_test['Name'].str.extract('([a-zA-Z]+)\\.', \n",
    "                                                                          expand=False)\n",
    "#combine_train_test['Name_Title'] = combine_train_test['Name'].map(lambda x: \n",
    "#                                            re.compile(\", (.*?)\\.\").findall(x)[0])\n",
    "combine_train_test['Name_Title'] = combine_train_test['Name_Title'].map(title_Dict)\n",
    "combine_nametitle_dummy = pd.get_dummies(combine_train_test['Name_Title'], \n",
    "                                                  prefix='Name_Title')\n",
    "combine_train_test = pd.concat([combine_train_test, combine_nametitle_dummy], axis=1)"
   ]
  },
  {
   "cell_type": "code",
   "execution_count": 60,
   "metadata": {},
   "outputs": [],
   "source": [
    "combine_train_test[\"Name_Title\"] = pd.factorize(combine_train_test.Name_Title)[0]"
   ]
  },
  {
   "cell_type": "markdown",
   "metadata": {},
   "source": [
    "#### (3) Parch and Sibsp  构成新的特征 Familt_Size_Category  \n",
    "由前面的分析可知，家庭成员的个数对生存率有一定的影响，过低或过高都会影响生存率。故可将Family_Size分为三类。  \n",
    "将离散型特征进行one-hot编码的作用，是为了让距离计算更合理，但如果特征是离散的，并且不用one-hot编码就可以很合理的计算出距离，那么就没必要进行one-hot编码。"
   ]
  },
  {
   "cell_type": "code",
   "execution_count": 61,
   "metadata": {},
   "outputs": [
    {
     "data": {
      "text/html": [
       "<div>\n",
       "<style scoped>\n",
       "    .dataframe tbody tr th:only-of-type {\n",
       "        vertical-align: middle;\n",
       "    }\n",
       "\n",
       "    .dataframe tbody tr th {\n",
       "        vertical-align: top;\n",
       "    }\n",
       "\n",
       "    .dataframe thead th {\n",
       "        text-align: right;\n",
       "    }\n",
       "</style>\n",
       "<table border=\"1\" class=\"dataframe\">\n",
       "  <thead>\n",
       "    <tr style=\"text-align: right;\">\n",
       "      <th></th>\n",
       "      <th>Survived</th>\n",
       "      <th>Age</th>\n",
       "      <th>Parch</th>\n",
       "      <th>Fare</th>\n",
       "      <th>Sex_female</th>\n",
       "      <th>Sex_male</th>\n",
       "      <th>Pclass_1</th>\n",
       "      <th>Pclass_2</th>\n",
       "      <th>Pclass_3</th>\n",
       "      <th>Embarked_C</th>\n",
       "      <th>...</th>\n",
       "      <th>Name_Title_Mr</th>\n",
       "      <th>Name_Title_Mrs</th>\n",
       "      <th>Name_Title_Officer</th>\n",
       "      <th>Name_Title_Royalty</th>\n",
       "      <th>Name_Title</th>\n",
       "      <th>Family_Size</th>\n",
       "      <th>Family_Size_Category</th>\n",
       "      <th>Family_Size_Category_Large</th>\n",
       "      <th>Family_Size_Category_Single</th>\n",
       "      <th>Family_Size_Category_Small</th>\n",
       "    </tr>\n",
       "  </thead>\n",
       "  <tbody>\n",
       "    <tr>\n",
       "      <th>0</th>\n",
       "      <td>0</td>\n",
       "      <td>22.0</td>\n",
       "      <td>-0.473674</td>\n",
       "      <td>-0.502445</td>\n",
       "      <td>0</td>\n",
       "      <td>1</td>\n",
       "      <td>0</td>\n",
       "      <td>0</td>\n",
       "      <td>1</td>\n",
       "      <td>0</td>\n",
       "      <td>...</td>\n",
       "      <td>1</td>\n",
       "      <td>0</td>\n",
       "      <td>0</td>\n",
       "      <td>0</td>\n",
       "      <td>Mr</td>\n",
       "      <td>2</td>\n",
       "      <td>Small</td>\n",
       "      <td>0</td>\n",
       "      <td>0</td>\n",
       "      <td>1</td>\n",
       "    </tr>\n",
       "    <tr>\n",
       "      <th>1</th>\n",
       "      <td>1</td>\n",
       "      <td>38.0</td>\n",
       "      <td>-0.473674</td>\n",
       "      <td>0.786845</td>\n",
       "      <td>1</td>\n",
       "      <td>0</td>\n",
       "      <td>1</td>\n",
       "      <td>0</td>\n",
       "      <td>0</td>\n",
       "      <td>1</td>\n",
       "      <td>...</td>\n",
       "      <td>0</td>\n",
       "      <td>1</td>\n",
       "      <td>0</td>\n",
       "      <td>0</td>\n",
       "      <td>Mrs</td>\n",
       "      <td>2</td>\n",
       "      <td>Small</td>\n",
       "      <td>0</td>\n",
       "      <td>0</td>\n",
       "      <td>1</td>\n",
       "    </tr>\n",
       "    <tr>\n",
       "      <th>2</th>\n",
       "      <td>1</td>\n",
       "      <td>26.0</td>\n",
       "      <td>-0.473674</td>\n",
       "      <td>-0.488854</td>\n",
       "      <td>1</td>\n",
       "      <td>0</td>\n",
       "      <td>0</td>\n",
       "      <td>0</td>\n",
       "      <td>1</td>\n",
       "      <td>0</td>\n",
       "      <td>...</td>\n",
       "      <td>0</td>\n",
       "      <td>0</td>\n",
       "      <td>0</td>\n",
       "      <td>0</td>\n",
       "      <td>Miss</td>\n",
       "      <td>1</td>\n",
       "      <td>Single</td>\n",
       "      <td>0</td>\n",
       "      <td>1</td>\n",
       "      <td>0</td>\n",
       "    </tr>\n",
       "    <tr>\n",
       "      <th>3</th>\n",
       "      <td>1</td>\n",
       "      <td>35.0</td>\n",
       "      <td>-0.473674</td>\n",
       "      <td>0.420730</td>\n",
       "      <td>1</td>\n",
       "      <td>0</td>\n",
       "      <td>1</td>\n",
       "      <td>0</td>\n",
       "      <td>0</td>\n",
       "      <td>0</td>\n",
       "      <td>...</td>\n",
       "      <td>0</td>\n",
       "      <td>1</td>\n",
       "      <td>0</td>\n",
       "      <td>0</td>\n",
       "      <td>Mrs</td>\n",
       "      <td>2</td>\n",
       "      <td>Small</td>\n",
       "      <td>0</td>\n",
       "      <td>0</td>\n",
       "      <td>1</td>\n",
       "    </tr>\n",
       "    <tr>\n",
       "      <th>4</th>\n",
       "      <td>0</td>\n",
       "      <td>35.0</td>\n",
       "      <td>-0.473674</td>\n",
       "      <td>-0.486337</td>\n",
       "      <td>0</td>\n",
       "      <td>1</td>\n",
       "      <td>0</td>\n",
       "      <td>0</td>\n",
       "      <td>1</td>\n",
       "      <td>0</td>\n",
       "      <td>...</td>\n",
       "      <td>1</td>\n",
       "      <td>0</td>\n",
       "      <td>0</td>\n",
       "      <td>0</td>\n",
       "      <td>Mr</td>\n",
       "      <td>1</td>\n",
       "      <td>Single</td>\n",
       "      <td>0</td>\n",
       "      <td>1</td>\n",
       "      <td>0</td>\n",
       "    </tr>\n",
       "  </tbody>\n",
       "</table>\n",
       "<p>5 rows × 24 columns</p>\n",
       "</div>"
      ],
      "text/plain": [
       "   Survived   Age     Parch      Fare  Sex_female  Sex_male  Pclass_1  \\\n",
       "0         0  22.0 -0.473674 -0.502445           0         1         0   \n",
       "1         1  38.0 -0.473674  0.786845           1         0         1   \n",
       "2         1  26.0 -0.473674 -0.488854           1         0         0   \n",
       "3         1  35.0 -0.473674  0.420730           1         0         1   \n",
       "4         0  35.0 -0.473674 -0.486337           0         1         0   \n",
       "\n",
       "   Pclass_2  Pclass_3  Embarked_C  ...  Name_Title_Mr  Name_Title_Mrs  \\\n",
       "0         0         1           0  ...              1               0   \n",
       "1         0         0           1  ...              0               1   \n",
       "2         0         1           0  ...              0               0   \n",
       "3         0         0           0  ...              0               1   \n",
       "4         0         1           0  ...              1               0   \n",
       "\n",
       "   Name_Title_Officer  Name_Title_Royalty  Name_Title  Family_Size  \\\n",
       "0                   0                   0          Mr            2   \n",
       "1                   0                   0         Mrs            2   \n",
       "2                   0                   0        Miss            1   \n",
       "3                   0                   0         Mrs            2   \n",
       "4                   0                   0          Mr            1   \n",
       "\n",
       "   Family_Size_Category  Family_Size_Category_Large  \\\n",
       "0                 Small                           0   \n",
       "1                 Small                           0   \n",
       "2                Single                           0   \n",
       "3                 Small                           0   \n",
       "4                Single                           0   \n",
       "\n",
       "  Family_Size_Category_Single  Family_Size_Category_Small  \n",
       "0                           0                           1  \n",
       "1                           0                           1  \n",
       "2                           1                           0  \n",
       "3                           0                           1  \n",
       "4                           1                           0  \n",
       "\n",
       "[5 rows x 24 columns]"
      ]
     },
     "execution_count": 61,
     "metadata": {},
     "output_type": "execute_result"
    }
   ],
   "source": [
    "def family_size_category(family_size):\n",
    "    if family_size <= 1:\n",
    "        return \"Single\"\n",
    "    elif family_size <= 4:\n",
    "        return \"Small\"\n",
    "    else:\n",
    "        return \"Large\"\n",
    "\n",
    "new_datum['Family_Size'] = datum['Parch'] + datum['SibSp'] + 1\n",
    "new_datum[\"Family_Size_Category\"] = new_datum[\"Family_Size\"].map(family_size_category)\n",
    "family_size_dummies_df = pd.get_dummies(new_datum['Family_Size_Category'],\n",
    "                             prefix=new_datum[['Family_Size_Category']].columns[0])\n",
    "new_datum = pd.concat([new_datum, family_size_dummies_df], axis=1)\n",
    "new_datum.head()"
   ]
  },
  {
   "cell_type": "code",
   "execution_count": 62,
   "metadata": {},
   "outputs": [
    {
     "data": {
      "text/html": [
       "<div>\n",
       "<style scoped>\n",
       "    .dataframe tbody tr th:only-of-type {\n",
       "        vertical-align: middle;\n",
       "    }\n",
       "\n",
       "    .dataframe tbody tr th {\n",
       "        vertical-align: top;\n",
       "    }\n",
       "\n",
       "    .dataframe thead th {\n",
       "        text-align: right;\n",
       "    }\n",
       "</style>\n",
       "<table border=\"1\" class=\"dataframe\">\n",
       "  <thead>\n",
       "    <tr style=\"text-align: right;\">\n",
       "      <th></th>\n",
       "      <th>PassengerId</th>\n",
       "      <th>Survived</th>\n",
       "      <th>Pclass</th>\n",
       "      <th>Name</th>\n",
       "      <th>Sex</th>\n",
       "      <th>Age</th>\n",
       "      <th>SibSp</th>\n",
       "      <th>Parch</th>\n",
       "      <th>Ticket</th>\n",
       "      <th>Fare</th>\n",
       "      <th>...</th>\n",
       "      <th>Name_Title_Miss</th>\n",
       "      <th>Name_Title_Mr</th>\n",
       "      <th>Name_Title_Mrs</th>\n",
       "      <th>Name_Title_Officer</th>\n",
       "      <th>Name_Title_Royalty</th>\n",
       "      <th>Family_Size</th>\n",
       "      <th>Family_Size_Category</th>\n",
       "      <th>Family_Size_Category_Large</th>\n",
       "      <th>Family_Size_Category_Single</th>\n",
       "      <th>Family_Size_Category_Small</th>\n",
       "    </tr>\n",
       "  </thead>\n",
       "  <tbody>\n",
       "    <tr>\n",
       "      <th>0</th>\n",
       "      <td>1</td>\n",
       "      <td>0</td>\n",
       "      <td>3</td>\n",
       "      <td>Braund, Mr. Owen Harris</td>\n",
       "      <td>0</td>\n",
       "      <td>22.0</td>\n",
       "      <td>1</td>\n",
       "      <td>0</td>\n",
       "      <td>A/5 21171</td>\n",
       "      <td>7.2500</td>\n",
       "      <td>...</td>\n",
       "      <td>0</td>\n",
       "      <td>1</td>\n",
       "      <td>0</td>\n",
       "      <td>0</td>\n",
       "      <td>0</td>\n",
       "      <td>2</td>\n",
       "      <td>Small</td>\n",
       "      <td>0</td>\n",
       "      <td>0</td>\n",
       "      <td>1</td>\n",
       "    </tr>\n",
       "    <tr>\n",
       "      <th>1</th>\n",
       "      <td>2</td>\n",
       "      <td>1</td>\n",
       "      <td>1</td>\n",
       "      <td>Cumings, Mrs. John Bradley (Florence Briggs Th...</td>\n",
       "      <td>1</td>\n",
       "      <td>38.0</td>\n",
       "      <td>1</td>\n",
       "      <td>0</td>\n",
       "      <td>PC 17599</td>\n",
       "      <td>71.2833</td>\n",
       "      <td>...</td>\n",
       "      <td>0</td>\n",
       "      <td>0</td>\n",
       "      <td>1</td>\n",
       "      <td>0</td>\n",
       "      <td>0</td>\n",
       "      <td>2</td>\n",
       "      <td>Small</td>\n",
       "      <td>0</td>\n",
       "      <td>0</td>\n",
       "      <td>1</td>\n",
       "    </tr>\n",
       "    <tr>\n",
       "      <th>2</th>\n",
       "      <td>3</td>\n",
       "      <td>1</td>\n",
       "      <td>3</td>\n",
       "      <td>Heikkinen, Miss. Laina</td>\n",
       "      <td>1</td>\n",
       "      <td>26.0</td>\n",
       "      <td>0</td>\n",
       "      <td>0</td>\n",
       "      <td>STON/O2. 3101282</td>\n",
       "      <td>7.9250</td>\n",
       "      <td>...</td>\n",
       "      <td>1</td>\n",
       "      <td>0</td>\n",
       "      <td>0</td>\n",
       "      <td>0</td>\n",
       "      <td>0</td>\n",
       "      <td>1</td>\n",
       "      <td>Single</td>\n",
       "      <td>0</td>\n",
       "      <td>1</td>\n",
       "      <td>0</td>\n",
       "    </tr>\n",
       "    <tr>\n",
       "      <th>3</th>\n",
       "      <td>4</td>\n",
       "      <td>1</td>\n",
       "      <td>1</td>\n",
       "      <td>Futrelle, Mrs. Jacques Heath (Lily May Peel)</td>\n",
       "      <td>1</td>\n",
       "      <td>35.0</td>\n",
       "      <td>1</td>\n",
       "      <td>0</td>\n",
       "      <td>113803</td>\n",
       "      <td>53.1000</td>\n",
       "      <td>...</td>\n",
       "      <td>0</td>\n",
       "      <td>0</td>\n",
       "      <td>1</td>\n",
       "      <td>0</td>\n",
       "      <td>0</td>\n",
       "      <td>2</td>\n",
       "      <td>Small</td>\n",
       "      <td>0</td>\n",
       "      <td>0</td>\n",
       "      <td>1</td>\n",
       "    </tr>\n",
       "    <tr>\n",
       "      <th>4</th>\n",
       "      <td>5</td>\n",
       "      <td>0</td>\n",
       "      <td>3</td>\n",
       "      <td>Allen, Mr. William Henry</td>\n",
       "      <td>0</td>\n",
       "      <td>35.0</td>\n",
       "      <td>0</td>\n",
       "      <td>0</td>\n",
       "      <td>373450</td>\n",
       "      <td>8.0500</td>\n",
       "      <td>...</td>\n",
       "      <td>0</td>\n",
       "      <td>1</td>\n",
       "      <td>0</td>\n",
       "      <td>0</td>\n",
       "      <td>0</td>\n",
       "      <td>1</td>\n",
       "      <td>Single</td>\n",
       "      <td>0</td>\n",
       "      <td>1</td>\n",
       "      <td>0</td>\n",
       "    </tr>\n",
       "  </tbody>\n",
       "</table>\n",
       "<p>5 rows × 24 columns</p>\n",
       "</div>"
      ],
      "text/plain": [
       "   PassengerId  Survived  Pclass  \\\n",
       "0            1         0       3   \n",
       "1            2         1       1   \n",
       "2            3         1       3   \n",
       "3            4         1       1   \n",
       "4            5         0       3   \n",
       "\n",
       "                                                Name  Sex   Age  SibSp  Parch  \\\n",
       "0                            Braund, Mr. Owen Harris    0  22.0      1      0   \n",
       "1  Cumings, Mrs. John Bradley (Florence Briggs Th...    1  38.0      1      0   \n",
       "2                             Heikkinen, Miss. Laina    1  26.0      0      0   \n",
       "3       Futrelle, Mrs. Jacques Heath (Lily May Peel)    1  35.0      1      0   \n",
       "4                           Allen, Mr. William Henry    0  35.0      0      0   \n",
       "\n",
       "             Ticket     Fare  ... Name_Title_Miss  Name_Title_Mr  \\\n",
       "0         A/5 21171   7.2500  ...               0              1   \n",
       "1          PC 17599  71.2833  ...               0              0   \n",
       "2  STON/O2. 3101282   7.9250  ...               1              0   \n",
       "3            113803  53.1000  ...               0              0   \n",
       "4            373450   8.0500  ...               0              1   \n",
       "\n",
       "   Name_Title_Mrs  Name_Title_Officer  Name_Title_Royalty  Family_Size  \\\n",
       "0               0                   0                   0            2   \n",
       "1               1                   0                   0            2   \n",
       "2               0                   0                   0            1   \n",
       "3               1                   0                   0            2   \n",
       "4               0                   0                   0            1   \n",
       "\n",
       "   Family_Size_Category  Family_Size_Category_Large  \\\n",
       "0                 Small                           0   \n",
       "1                 Small                           0   \n",
       "2                Single                           0   \n",
       "3                 Small                           0   \n",
       "4                Single                           0   \n",
       "\n",
       "   Family_Size_Category_Single  Family_Size_Category_Small  \n",
       "0                            0                           1  \n",
       "1                            0                           1  \n",
       "2                            1                           0  \n",
       "3                            0                           1  \n",
       "4                            1                           0  \n",
       "\n",
       "[5 rows x 24 columns]"
      ]
     },
     "execution_count": 62,
     "metadata": {},
     "output_type": "execute_result"
    }
   ],
   "source": [
    "combine_train_test['Family_Size'] = combine_train_test['Parch'] + combine_train_test['SibSp'] + 1\n",
    "combine_train_test[\"Family_Size_Category\"] = combine_train_test[\"Family_Size\"].map(family_size_category)\n",
    "family_size_dummies_df = pd.get_dummies(combine_train_test['Family_Size_Category'],\n",
    "                             prefix=combine_train_test[['Family_Size_Category']].columns[0])\n",
    "combine_train_test = pd.concat([combine_train_test, family_size_dummies_df], axis=1)\n",
    "combine_train_test.head()"
   ]
  },
  {
   "cell_type": "code",
   "execution_count": 63,
   "metadata": {},
   "outputs": [],
   "source": [
    "combine_train_test[\"Family_Size_Category\"] = pd.factorize(combine_train_test.Family_Size_Category)[0]"
   ]
  },
  {
   "cell_type": "markdown",
   "metadata": {},
   "source": [
    "#### (4) Ticket  \n",
    "观察Ticket的值，我们可以看到，Ticket有字母和数字之分，而对于不同的字母，可能在很大程度上就意味着船舱等级或者不同船舱的位置，也会对Survived产生一定的影响，所以我们将Ticket中的字母分开，为数字的部分则分为一类。"
   ]
  },
  {
   "cell_type": "code",
   "execution_count": 64,
   "metadata": {},
   "outputs": [],
   "source": [
    "new_datum[\"Ticket_Letter\"] = datum[\"Ticket\"].str.split().str[0]\n",
    "new_datum[\"Ticket_Letter\"] = new_datum[\"Ticket_Letter\"].apply(\n",
    "    lambda x : \"U0\" if x.isnumeric() else x)\n",
    "new_datum[\"Ticket_Letter\"] = pd.factorize(new_datum[\"Ticket_Letter\"])[0]"
   ]
  },
  {
   "cell_type": "code",
   "execution_count": 65,
   "metadata": {},
   "outputs": [],
   "source": [
    "combine_train_test[\"Ticket_Letter\"] = combine_train_test[\"Ticket\"].str.split().str[0]\n",
    "combine_train_test[\"Ticket_Letter\"] = combine_train_test[\"Ticket_Letter\"].apply(\n",
    "    lambda x : \"U0\" if x.isnumeric() else x)\n",
    "combine_train_test[\"Ticket_Letter\"] = pd.factorize(combine_train_test[\"Ticket_Letter\"])[0]"
   ]
  },
  {
   "cell_type": "markdown",
   "metadata": {},
   "source": [
    "#### <font color=red > 离散变量的编码方法： </font>\n",
    "1. pd.get_dummies 哑变量\n",
    "2. from sklearn.preprocessing import LabelEncoder  \n",
    "   le = LabelEncoder()   \n",
    "   le.fit(np.array([\"Single\", \"Small\", \"Large\"]))  \n",
    "   new_datum[\"Family_Size_Category\"] = le.transform(new_datum[\"Family_Size_Category\"]) \n",
    "3. pd.factorize"
   ]
  },
  {
   "cell_type": "markdown",
   "metadata": {},
   "source": [
    "#### (5) Cabin  \n",
    "cabin 缺失值很多，有效值只有204个，可以直接丢弃；也可以对其进行分析，看是否有必要将缺失值作为一个类别进行处理。"
   ]
  },
  {
   "cell_type": "markdown",
   "metadata": {},
   "source": [
    " <font color=red > 对object，缺失值用 np.nan 而不是 np.isnull() </font>"
   ]
  },
  {
   "cell_type": "code",
   "execution_count": 66,
   "metadata": {},
   "outputs": [
    {
     "data": {
      "text/plain": [
       "<matplotlib.axes._subplots.AxesSubplot at 0x7ff39bb21c50>"
      ]
     },
     "execution_count": 66,
     "metadata": {},
     "output_type": "execute_result"
    },
    {
     "data": {
      "image/png": "[encoded data removed]",
      "text/plain": [
       "<Figure size 432x288 with 1 Axes>"
      ]
     },
     "metadata": {
      "needs_background": "light"
     },
     "output_type": "display_data"
    }
   ],
   "source": [
    "# 查看不同船舱对生存率的影响\n",
    "new_datum[\"Cabin_Letter\"] = datum[\"Cabin\"].str.extract('([a-zA-Z]+)', expand=False)\n",
    "new_datum[\"Cabin_Letter\"] = new_datum[\"Cabin_Letter\"].apply(\n",
    "    lambda x: \"U0\" if x is np.nan else x)\n",
    "new_datum[\"Cabin_Letter\"] = pd.factorize(new_datum.Cabin_Letter)[0]\n",
    "new_datum[[\"Cabin_Letter\", \"Survived\"]].groupby(\"Cabin_Letter\").mean().plot.bar()"
   ]
  },
  {
   "cell_type": "code",
   "execution_count": 67,
   "metadata": {},
   "outputs": [
    {
     "data": {
      "text/plain": [
       "<matplotlib.axes._subplots.AxesSubplot at 0x7ff39bb2ccc0>"
      ]
     },
     "execution_count": 67,
     "metadata": {},
     "output_type": "execute_result"
    },
    {
     "data": {
      "image/png": "[encoded data removed]",
      "text/plain": [
       "<Figure size 432x288 with 1 Axes>"
      ]
     },
     "metadata": {
      "needs_background": "light"
     },
     "output_type": "display_data"
    }
   ],
   "source": [
    "new_datum.drop([\"Cabin_Letter\"], axis=1, inplace=True)\n",
    "new_datum.loc[datum.Cabin.isnull(), \"Cabin_has\"] = \"U0\"\n",
    "new_datum[\"Cabin_has\"] = new_datum[\"Cabin_has\"].apply(lambda x : 0 if x ==\"U0\" else 1)\n",
    "new_datum[[\"Cabin_has\", \"Survived\"]].groupby([\"Cabin_has\"]).mean().plot.bar()"
   ]
  },
  {
   "cell_type": "code",
   "execution_count": 68,
   "metadata": {},
   "outputs": [],
   "source": [
    "combine_train_test.loc[combine_train_test.Cabin.isnull(), \"Cabin_has\"] = \"U0\"\n",
    "combine_train_test[\"Cabin_has\"] = combine_train_test[\"Cabin_has\"].apply(lambda x : 0 if x ==\"U0\" else 1)"
   ]
  },
  {
   "cell_type": "markdown",
   "metadata": {},
   "source": [
    "由此可见，Cabin的种类对生存率的影响不是很大，但是是否含有Cabin对生存率有一定的影响。"
   ]
  },
  {
   "cell_type": "markdown",
   "metadata": {},
   "source": [
    "#### （6）Pclass 和  Fare  \n",
    "Pclass这一项，可以不用直接处理，直接转化为哑变量。  \n",
    "也可做如下假设：在不同等级的船舱，内部的不同票价也反应了各等级仓的位置，也可能与逃生的顺序有关。所以这里分出各等级仓的高价位与低价位。"
   ]
  },
  {
   "cell_type": "code",
   "execution_count": 69,
   "metadata": {},
   "outputs": [],
   "source": [
    "def pclass_fare_category(df, pclass1_mean_fare, pclass2_mean_fare, pclass3_mean_fare):\n",
    "    if df[\"Pclass\"] == 1:\n",
    "        if df[\"Fare\"] <= pclass1_mean_fare:\n",
    "            return \"Pclass1_Lowfare\"\n",
    "        else:\n",
    "            return \"Pclass1_Highfare\"\n",
    "    elif df[\"Pclass\"] == 2:\n",
    "        if df[\"Fare\"] <= pclass2_mean_fare:\n",
    "            return \"Pclass2_Lowfare\"\n",
    "        else:\n",
    "            return \"Pclass2_Highfare\"\n",
    "    elif df[\"Pclass\"] == 3:\n",
    "        if df[\"Fare\"] <= pclass3_mean_fare:\n",
    "            return \"Pclass3_Lowfare\"\n",
    "        else:\n",
    "            return \"Pclass3_Highfare\"\n",
    "        \n",
    "pclass1_mean_fare = datum[[\"Fare\",\"Pclass\"]].groupby([\"Pclass\"]).mean().get_values()[0]\n",
    "pclass2_mean_fare = datum[[\"Fare\",\"Pclass\"]].groupby([\"Pclass\"]).mean().get_values()[1]\n",
    "pclass3_mean_fare = datum[[\"Fare\",\"Pclass\"]].groupby([\"Pclass\"]).mean().get_values()[2]\n",
    "\n",
    "new_datum[\"Pclass_Fare_Category\"] = datum.apply(pclass_fare_category, args=(\n",
    "    pclass1_mean_fare[0], pclass2_mean_fare[0], pclass3_mean_fare[0]), axis=1)\n",
    "\n",
    "# 删去最后一列（没有列名）\n",
    "#new_datum.drop(new_datum.columns[len(new_datum.columns)-1], axis=1, inplace=True)\n",
    "\n",
    "pclass_fare_category_dummy = pd.get_dummies(new_datum.Pclass_Fare_Category.rename(\n",
    "    columns=lambda x: str(x)))\n",
    "new_datum = pd.concat([new_datum, pclass_fare_category_dummy],axis=1)\n",
    "new_datum.drop(\"Pclass_Fare_Category\",inplace=True,axis=1)"
   ]
  },
  {
   "cell_type": "markdown",
   "metadata": {},
   "source": [
    "接下来再对Fare进行Bining。（Binning通过观察“邻居”(即周围的值)将连续数据离散化。每个bin中含有的样本数相同）"
   ]
  },
  {
   "cell_type": "code",
   "execution_count": 70,
   "metadata": {},
   "outputs": [
    {
     "data": {
      "text/plain": [
       "0    (-0.649, -0.49]\n",
       "1     (0.151, 9.667]\n",
       "2    (-0.49, -0.437]\n",
       "3     (0.151, 9.667]\n",
       "4    (-0.49, -0.437]\n",
       "Name: Fare_bin, dtype: category\n",
       "Categories (5, interval[float64]): [(-0.649, -0.49] < (-0.49, -0.437] < (-0.437, -0.212] < (-0.212, 0.151] < (0.151, 9.667]]"
      ]
     },
     "execution_count": 70,
     "metadata": {},
     "output_type": "execute_result"
    }
   ],
   "source": [
    "new_datum[\"Fare_bin\"] = pd.qcut(new_datum[\"Fare\"], 5)\n",
    "new_datum.Fare_bin.head()"
   ]
  },
  {
   "cell_type": "code",
   "execution_count": 71,
   "metadata": {},
   "outputs": [],
   "source": [
    "new_datum[\"Fare_bin_Category\"] = pd.factorize(new_datum[\"Fare_bin\"])[0]\n",
    "new_datum.drop(\"Fare_bin\", inplace=True, axis=1)"
   ]
  },
  {
   "cell_type": "code",
   "execution_count": 72,
   "metadata": {},
   "outputs": [],
   "source": [
    "pclass1_mean_fare = combine_train_test[[\"Fare\",\"Pclass\"]].groupby([\"Pclass\"]).mean().get_values()[0]\n",
    "pclass2_mean_fare = combine_train_test[[\"Fare\",\"Pclass\"]].groupby([\"Pclass\"]).mean().get_values()[1]\n",
    "pclass3_mean_fare = combine_train_test[[\"Fare\",\"Pclass\"]].groupby([\"Pclass\"]).mean().get_values()[2]\n",
    "\n",
    "combine_train_test[\"Pclass_Fare_Category\"] = combine_train_test.apply(pclass_fare_category, args=(\n",
    "    pclass1_mean_fare[0], pclass2_mean_fare[0], pclass3_mean_fare[0]), axis=1)\n",
    "\n",
    "pclass_fare_category_dummy = pd.get_dummies(combine_train_test.Pclass_Fare_Category.rename(\n",
    "    columns=lambda x: str(x)))\n",
    "combine_train_test = pd.concat([combine_train_test, pclass_fare_category_dummy],axis=1)\n",
    "combine_train_test.drop(\"Pclass_Fare_Category\",inplace=True,axis=1)"
   ]
  },
  {
   "cell_type": "markdown",
   "metadata": {},
   "source": [
    "通过对Ticket数据的分析，我们可以看到部分票号数据有重复，同时结合亲属人数及名字的数据，和票价船舱等级对比，我们可以知道购买的票中有家庭票和团体票，所以我们需要将团体票的票价分配到每个人的头上。"
   ]
  },
  {
   "cell_type": "code",
   "execution_count": 73,
   "metadata": {},
   "outputs": [],
   "source": [
    "combine_train_test['Fare'] = combine_train_test[['Fare']].fillna(\n",
    "                combine_train_test.groupby('Pclass').transform(np.mean))\n",
    "combine_train_test['Group_Ticket'] = combine_train_test['Fare'].groupby(\n",
    "                by=combine_train_test['Ticket']).transform('count')\n",
    "combine_train_test['Fare'] = combine_train_test['Fare'] / combine_train_test['Group_Ticket']\n",
    "combine_train_test.drop(['Group_Ticket'], axis=1, inplace=True)\n",
    "combine_train_test[\"Fare_bin\"] = pd.qcut(combine_train_test[\"Fare\"], 5)\n",
    "combine_train_test[\"Fare_bin_Category\"] = pd.factorize(combine_train_test[\"Fare_bin\"])[0]\n",
    "combine_train_test.drop(\"Fare_bin\", inplace=True, axis=1)"
   ]
  },
  {
   "cell_type": "markdown",
   "metadata": {},
   "source": [
    "#### (7) Age"
   ]
  },
  {
   "cell_type": "code",
   "execution_count": 74,
   "metadata": {},
   "outputs": [],
   "source": [
    "new_datum[\"Name_Length\"] = new_datum_1.Name_length\n",
    "combine_train_test['Name_length'] = combine_train_test['Name'].apply(len)"
   ]
  },
  {
   "cell_type": "code",
   "execution_count": 75,
   "metadata": {},
   "outputs": [],
   "source": [
    "missing_age_df = pd.DataFrame(combine_train_test[[ \"Age\", \"Embarked\", \"Sex\", \"Name_Title\",\n",
    "                                                 \"Name_length\", \"Family_Size\", \n",
    "                                                \"Family_Size_Category\", \"Fare\", \n",
    "                                                 \"Fare_bin_Category\", \"Pclass\"] ])\n",
    "missing_age_train = missing_age_df.loc[missing_age_df.Age.notnull()]\n",
    "missing_age_test = missing_age_df.loc[missing_age_df.Age.isnull()]"
   ]
  },
  {
   "cell_type": "markdown",
   "metadata": {},
   "source": [
    "建立Age的预测模型，我们可以多模型预测，然后再做模型的融合，提高预测的精度。"
   ]
  },
  {
   "cell_type": "code",
   "execution_count": 76,
   "metadata": {},
   "outputs": [
    {
     "name": "stdout",
     "output_type": "stream",
     "text": [
      "Fitting 3 folds for each of 6 candidates, totalling 18 fits\n"
     ]
    },
    {
     "name": "stderr",
     "output_type": "stream",
     "text": [
      "[Parallel(n_jobs=-1)]: Using backend LokyBackend with 4 concurrent workers.\n",
      "[Parallel(n_jobs=-1)]: Done  18 out of  18 | elapsed:  2.2min finished\n",
      "/home/huzhj/anaconda3/envs/kaggle/lib/python3.7/site-packages/sklearn/model_selection/_search.py:841: DeprecationWarning: The default of the `iid` parameter will change from True to False in version 0.22 and will be removed in 0.24. This will change numeric results when test-set sizes are unequal.\n",
      "  DeprecationWarning)\n"
     ]
    },
    {
     "name": "stdout",
     "output_type": "stream",
     "text": [
      "best parameter by gradient boosting in filling age is: {'min_samples_leaf': 4, 'n_estimators': 800}\n",
      "best stores by gradient boosting in filling age is: -140.66829389124243\n",
      "GB train error is: -81.41134019177723\n",
      "5     27.973748\n",
      "17    30.041259\n",
      "19    29.154578\n",
      "26    27.558281\n",
      "Name: GB_Age, dtype: float64\n"
     ]
    },
    {
     "name": "stderr",
     "output_type": "stream",
     "text": [
      "/home/huzhj/anaconda3/envs/kaggle/lib/python3.7/site-packages/pandas/core/indexing.py:362: SettingWithCopyWarning: \n",
      "A value is trying to be set on a copy of a slice from a DataFrame.\n",
      "Try using .loc[row_indexer,col_indexer] = value instead\n",
      "\n",
      "See the caveats in the documentation: http://pandas.pydata.org/pandas-docs/stable/indexing.html#indexing-view-versus-copy\n",
      "  self.obj[key] = _infer_fill_value(value)\n",
      "/home/huzhj/anaconda3/envs/kaggle/lib/python3.7/site-packages/pandas/core/indexing.py:543: SettingWithCopyWarning: \n",
      "A value is trying to be set on a copy of a slice from a DataFrame.\n",
      "Try using .loc[row_indexer,col_indexer] = value instead\n",
      "\n",
      "See the caveats in the documentation: http://pandas.pydata.org/pandas-docs/stable/indexing.html#indexing-view-versus-copy\n",
      "  self.obj[item] = s\n"
     ]
    },
    {
     "name": "stdout",
     "output_type": "stream",
     "text": [
      "RF train error is: 0.8497180685687007\n",
      "5     34.935682\n",
      "17    30.027273\n",
      "19    38.976136\n",
      "26    27.066364\n",
      "Name: RF_Age, dtype: float64\n",
      "merge model\n",
      "5     29.789411\n",
      "17    29.789411\n",
      "19    29.789411\n",
      "26    29.789411\n",
      "Name: Age, dtype: float64\n"
     ]
    },
    {
     "name": "stderr",
     "output_type": "stream",
     "text": [
      "/home/huzhj/anaconda3/envs/kaggle/lib/python3.7/site-packages/pandas/core/indexing.py:362: SettingWithCopyWarning: \n",
      "A value is trying to be set on a copy of a slice from a DataFrame.\n",
      "Try using .loc[row_indexer,col_indexer] = value instead\n",
      "\n",
      "See the caveats in the documentation: http://pandas.pydata.org/pandas-docs/stable/indexing.html#indexing-view-versus-copy\n",
      "  self.obj[key] = _infer_fill_value(value)\n",
      "/home/huzhj/anaconda3/envs/kaggle/lib/python3.7/site-packages/pandas/core/indexing.py:543: SettingWithCopyWarning: \n",
      "A value is trying to be set on a copy of a slice from a DataFrame.\n",
      "Try using .loc[row_indexer,col_indexer] = value instead\n",
      "\n",
      "See the caveats in the documentation: http://pandas.pydata.org/pandas-docs/stable/indexing.html#indexing-view-versus-copy\n",
      "  self.obj[item] = s\n",
      "/home/huzhj/anaconda3/envs/kaggle/lib/python3.7/site-packages/ipykernel_launcher.py:41: SettingWithCopyWarning: \n",
      "A value is trying to be set on a copy of a slice from a DataFrame.\n",
      "Try using .loc[row_indexer,col_indexer] = value instead\n",
      "\n",
      "See the caveats in the documentation: http://pandas.pydata.org/pandas-docs/stable/indexing.html#indexing-view-versus-copy\n",
      "/home/huzhj/anaconda3/envs/kaggle/lib/python3.7/site-packages/pandas/core/frame.py:3940: SettingWithCopyWarning: \n",
      "A value is trying to be set on a copy of a slice from a DataFrame\n",
      "\n",
      "See the caveats in the documentation: http://pandas.pydata.org/pandas-docs/stable/indexing.html#indexing-view-versus-copy\n",
      "  errors=errors)\n"
     ]
    }
   ],
   "source": [
    "from sklearn import ensemble\n",
    "from sklearn import model_selection\n",
    "from sklearn.ensemble import GradientBoostingRegressor\n",
    "from sklearn.ensemble import RandomForestRegressor\n",
    "\n",
    "def fill_age_model(missing_age_train, missing_age_test):\n",
    "    train_X = missing_age_train.drop([\"Age\"], axis=1)\n",
    "    train_Y = missing_age_train.Age\n",
    "    test_X = missing_age_test.drop([\"Age\"], axis=1)\n",
    "    \n",
    "    # model1\n",
    "    gb_reg = GradientBoostingRegressor(random_state=0, criterion='mae')\n",
    "    gb_reg_pram_grid = {\"n_estimators\":range(800,1400,200),\n",
    "                       \"min_samples_leaf\":range(2,6,2),\n",
    "                       }\n",
    "    #gb_reg_pram_grid = {\"n_estimators\":[1000],\n",
    "    #                   \"min_samples_leaf\":[2],\n",
    "    #                   }\n",
    "    gb_reg_grid = model_selection.GridSearchCV(estimator=gb_reg,\n",
    "                                           param_grid=gb_reg_pram_grid,\n",
    "                                           cv=3, n_jobs=-1,\n",
    "                                           verbose=1, scoring='neg_mean_squared_error')\n",
    "    gb_reg_grid.fit(train_X, train_Y)\n",
    "    print(\"best parameter by gradient boosting in filling age is: \" \n",
    "          + str(gb_reg_grid.best_params_))\n",
    "    print(\"best stores by gradient boosting in filling age is: \"\n",
    "         + str(gb_reg_grid.best_score_))\n",
    "    print(\"GB train error is: \" + str(gb_reg_grid.score(train_X, train_Y)))\n",
    "    missing_age_test.loc[:, \"GB_Age\"] = gb_reg_grid.predict(test_X)\n",
    "    print(missing_age_test[\"GB_Age\"][:4])\n",
    "    \n",
    "    # model2\n",
    "    rf_reg = RandomForestRegressor(random_state=0, oob_score=True, n_estimators=1100,  \n",
    "                                  max_features=7, criterion='mae')\n",
    "    rf_reg.fit(train_X, train_Y)\n",
    "    print(\"RF train error is: \" + str(rf_reg.score(train_X, train_Y)) )\n",
    "    missing_age_test.loc[:, \"RF_Age\"] = rf_reg.predict(test_X)\n",
    "    print(missing_age_test[\"RF_Age\"][:4])\n",
    "    \n",
    "    # model merge\n",
    "    missing_age_test[\"Age\"] = np.mean([ missing_age_test[\"GB_Age\"], missing_age_test[\"RF_Age\"] ])\n",
    "    print(\"merge model\")\n",
    "    print(missing_age_test[\"Age\"][:4])\n",
    "    \n",
    "    missing_age_test.drop(columns = [\"GB_Age\", \"RF_Age\"], axis=1, inplace=True)\n",
    "    \n",
    "    return missing_age_test\n",
    "\n",
    "missing_age_test = fill_age_model(missing_age_train, missing_age_test)\n",
    "combine_train_test.loc[(combine_train_test.Age.isnull()), 'Age'] = missing_age_test"
   ]
  },
  {
   "cell_type": "markdown",
   "metadata": {},
   "source": [
    "### 特征间的相关性分析  \n",
    "可以挑选一些主要特征，生成特征之间的关联图，查看特征与特征之间的相关性。"
   ]
  },
  {
   "cell_type": "code",
   "execution_count": 77,
   "metadata": {},
   "outputs": [
    {
     "data": {
      "text/plain": [
       "<matplotlib.axes._subplots.AxesSubplot at 0x7ff39b9f7be0>"
      ]
     },
     "execution_count": 77,
     "metadata": {},
     "output_type": "execute_result"
    },
    {
     "data": {
      "image/png": "[encoded data removed]",
      "text/plain": [
       "<Figure size 720x576 with 2 Axes>"
      ]
     },
     "metadata": {
      "needs_background": "light"
     },
     "output_type": "display_data"
    }
   ],
   "source": [
    "Correlation = pd.DataFrame(new_datum[[\"Age\",\"Family_Size_Category\", \n",
    "                                      \"Family_Size\", \"Fare\", \"Fare_bin_Category\",\n",
    "                                     \"Name_Title\",  \"Ticket_Letter\", \"Cabin_has\"]])\n",
    "colormap = plt.cm.viridis\n",
    "plt.figure(figsize=(10,8))\n",
    "plt.title('Pearson Correlation of Features', y=1.05, size=15)\n",
    "sns.heatmap(Correlation.corr(),linewidths=0.1,vmax=1.0, square=True, \n",
    "            cmap=colormap, linecolor='white', annot=True)"
   ]
  },
  {
   "cell_type": "markdown",
   "metadata": {},
   "source": [
    "### 输入模型前的处理\n",
    "1. 哑变量  \n",
    "2. 标准化\n",
    "3. 丢弃不用的变量  \n",
    "4. 分开训练数据与测试数据"
   ]
  },
  {
   "cell_type": "code",
   "execution_count": 78,
   "metadata": {},
   "outputs": [],
   "source": [
    "sex_dummies = pd.get_dummies(combine_train_test[\"Sex\"],prefix=\"Sex\")\n",
    "pclass_dummies = pd.get_dummies(combine_train_test[\"Pclass\"],prefix=\"Pclass\")\n",
    "combine_train_test = pd.concat([combine_train_test, sex_dummies, pclass_dummies], axis=1)\n",
    "embark_dummies = pd.get_dummies(combine_train_test[\"Embarked\"], prefix=\"Embarked\")\n",
    "combine_train_test = pd.concat([combine_train_test, embark_dummies], axis=1)"
   ]
  },
  {
   "cell_type": "code",
   "execution_count": 79,
   "metadata": {},
   "outputs": [
    {
     "name": "stderr",
     "output_type": "stream",
     "text": [
      "/home/huzhj/anaconda3/envs/kaggle/lib/python3.7/site-packages/sklearn/preprocessing/data.py:625: DataConversionWarning: Data with input dtype int64, float64 were all converted to float64 by StandardScaler.\n",
      "  return self.partial_fit(X, y)\n",
      "/home/huzhj/anaconda3/envs/kaggle/lib/python3.7/site-packages/ipykernel_launcher.py:2: DataConversionWarning: Data with input dtype int64, float64 were all converted to float64 by StandardScaler.\n",
      "  \n"
     ]
    }
   ],
   "source": [
    "scale_age_fare = preprocessing.StandardScaler().fit(combine_train_test[['Age','Fare', 'Name_length']])\n",
    "combine_train_test[['Age','Fare', 'Name_length']] = scale_age_fare.transform(combine_train_test[['Age','Fare', 'Name_length']])"
   ]
  },
  {
   "cell_type": "code",
   "execution_count": 80,
   "metadata": {},
   "outputs": [],
   "source": [
    "combine_train_test_copy = combine_train_test.copy() "
   ]
  },
  {
   "cell_type": "code",
   "execution_count": 81,
   "metadata": {},
   "outputs": [],
   "source": [
    "combine_train_test.drop(columns=[\"Sex\", \"Name\", \"Name_Title\", \"PassengerId\", \"Embarked\",\n",
    "                                 \"Ticket\", \"Cabin\", \"Parch\", \"SibSp\",\n",
    "                                \"Family_Size_Category\", \"Fare_bin_Category\"], \n",
    "                        inplace=True, axis=1)"
   ]
  },
  {
   "cell_type": "code",
   "execution_count": 82,
   "metadata": {},
   "outputs": [],
   "source": [
    "train_df = combine_train_test[:891]\n",
    "titanic_train_data_X = train_df.drop([\"Survived\"], axis=1)\n",
    "titanic_train_data_Y = train_df.Survived\n",
    "test_df = combine_train_test[891:]\n",
    "titanic_test_data_X = test_df.drop([\"Survived\"], axis=1)"
   ]
  },
  {
   "cell_type": "markdown",
   "metadata": {},
   "source": [
    "### 模型融合 （Model Ensemble）\n",
    "#### (1) 利用不同的模型来对特征进行筛选，选出较为重要的特征："
   ]
  },
  {
   "cell_type": "code",
   "execution_count": 83,
   "metadata": {},
   "outputs": [
    {
     "name": "stdout",
     "output_type": "stream",
     "text": [
      "Fitting 10 folds for each of 2 candidates, totalling 20 fits\n"
     ]
    },
    {
     "name": "stderr",
     "output_type": "stream",
     "text": [
      "[Parallel(n_jobs=25)]: Using backend LokyBackend with 25 concurrent workers.\n",
      "[Parallel(n_jobs=25)]: Done  13 out of  20 | elapsed:  1.1min remaining:   36.5s\n",
      "[Parallel(n_jobs=25)]: Done  20 out of  20 | elapsed:  1.1min finished\n"
     ]
    },
    {
     "name": "stdout",
     "output_type": "stream",
     "text": [
      "Top N Features Best RF Params:{'max_depth': 20, 'min_samples_split': 3, 'n_estimators': 500}\n",
      "Top N Features Best RF Score:0.8237934904601572\n",
      "Top N Features RF Train Score:0.9775533108866442\n",
      "Sample 10 Features from RF Classifier\n",
      "21        Name_length\n",
      "2                Fare\n",
      "1                 Age\n",
      "5       Name_Title_Mr\n",
      "22              Sex_0\n",
      "23              Sex_1\n",
      "13      Ticket_Letter\n",
      "9         Family_Size\n",
      "0              Pclass\n",
      "4     Name_Title_Miss\n",
      "Name: feature, dtype: object\n",
      "Fitting 10 folds for each of 2 candidates, totalling 20 fits\n"
     ]
    },
    {
     "name": "stderr",
     "output_type": "stream",
     "text": [
      "[Parallel(n_jobs=25)]: Using backend LokyBackend with 25 concurrent workers.\n",
      "[Parallel(n_jobs=25)]: Done  13 out of  20 | elapsed:    7.8s remaining:    4.2s\n",
      "[Parallel(n_jobs=25)]: Done  20 out of  20 | elapsed:   10.4s finished\n"
     ]
    },
    {
     "name": "stdout",
     "output_type": "stream",
     "text": [
      "Top N Features Best Ada Params:{'learning_rate': 0.01, 'n_estimators': 500}\n",
      "Top N Features Best Ada Score:0.8159371492704826\n",
      "Top N Features Ada Train Score:0.8204264870931538\n",
      "Sample 10 Feature from Ada Classifier:\n",
      "5                  Name_Title_Mr\n",
      "2                           Fare\n",
      "10    Family_Size_Category_Large\n",
      "22                         Sex_0\n",
      "9                    Family_Size\n",
      "14                     Cabin_has\n",
      "23                         Sex_1\n",
      "26                      Pclass_3\n",
      "0                         Pclass\n",
      "21                   Name_length\n",
      "Name: feature, dtype: object\n",
      "Fitting 10 folds for each of 2 candidates, totalling 20 fits\n"
     ]
    },
    {
     "name": "stderr",
     "output_type": "stream",
     "text": [
      "[Parallel(n_jobs=25)]: Using backend LokyBackend with 25 concurrent workers.\n",
      "[Parallel(n_jobs=25)]: Done  13 out of  20 | elapsed:    7.2s remaining:    3.9s\n",
      "[Parallel(n_jobs=25)]: Done  20 out of  20 | elapsed:    8.2s finished\n"
     ]
    },
    {
     "name": "stdout",
     "output_type": "stream",
     "text": [
      "Top N Features Best ET Params:{'max_depth': 20, 'min_samples_split': 3, 'n_estimators': 500}\n",
      "Top N Features Best ET Score:0.8181818181818182\n",
      "Top N Features ET Train Score:0.9865319865319865\n",
      "Sample 10 Features from ET Classifier:\n",
      "5       Name_Title_Mr\n",
      "21        Name_length\n",
      "22              Sex_0\n",
      "1                 Age\n",
      "2                Fare\n",
      "23              Sex_1\n",
      "13      Ticket_Letter\n",
      "4     Name_Title_Miss\n",
      "14          Cabin_has\n",
      "6      Name_Title_Mrs\n",
      "Name: feature, dtype: object\n",
      "Fitting 10 folds for each of 2 candidates, totalling 20 fits\n"
     ]
    },
    {
     "name": "stderr",
     "output_type": "stream",
     "text": [
      "[Parallel(n_jobs=25)]: Using backend LokyBackend with 25 concurrent workers.\n",
      "[Parallel(n_jobs=25)]: Done  13 out of  20 | elapsed:   33.3s remaining:   17.9s\n",
      "[Parallel(n_jobs=25)]: Done  20 out of  20 | elapsed:   36.9s finished\n"
     ]
    },
    {
     "name": "stdout",
     "output_type": "stream",
     "text": [
      "Top N Features Best GB Params:{'learning_rate': 0.1, 'max_depth': 20, 'n_estimators': 500}\n",
      "Top N Features Best GB Score:0.7744107744107744\n",
      "Top N Features GB Train Score:0.9977553310886644\n",
      "Sample 10 Feature from GB Classifier:\n",
      "5                  Name_Title_Mr\n",
      "2                           Fare\n",
      "1                            Age\n",
      "21                   Name_length\n",
      "9                    Family_Size\n",
      "10    Family_Size_Category_Large\n",
      "7             Name_Title_Officer\n",
      "19              Pclass3_Highfare\n",
      "13                 Ticket_Letter\n",
      "0                         Pclass\n",
      "Name: feature, dtype: object\n",
      "Fitting 10 folds for each of 2 candidates, totalling 20 fits\n"
     ]
    },
    {
     "name": "stderr",
     "output_type": "stream",
     "text": [
      "[Parallel(n_jobs=25)]: Using backend LokyBackend with 25 concurrent workers.\n"
     ]
    },
    {
     "name": "stdout",
     "output_type": "stream",
     "text": [
      "Top N Features Best DT Params:{'max_depth': 20, 'min_samples_split': 4}\n",
      "Top N Features Best DT Score:0.7654320987654321\n",
      "Top N Features DT Train Score:0.9607182940516273\n",
      "Sample 10 Features from DT Classifier:\n",
      "5          Name_Title_Mr\n",
      "2                   Fare\n",
      "1                    Age\n",
      "21           Name_length\n",
      "9            Family_Size\n",
      "19      Pclass3_Highfare\n",
      "7     Name_Title_Officer\n",
      "0                 Pclass\n",
      "13         Ticket_Letter\n",
      "14             Cabin_has\n",
      "Name: feature, dtype: object\n"
     ]
    },
    {
     "name": "stderr",
     "output_type": "stream",
     "text": [
      "[Parallel(n_jobs=25)]: Done  13 out of  20 | elapsed:    0.2s remaining:    0.1s\n",
      "[Parallel(n_jobs=25)]: Done  20 out of  20 | elapsed:    0.4s finished\n"
     ]
    }
   ],
   "source": [
    "from sklearn.ensemble import RandomForestClassifier\n",
    "from sklearn.ensemble import AdaBoostClassifier\n",
    "from sklearn.ensemble import ExtraTreesClassifier\n",
    "from sklearn.ensemble import GradientBoostingClassifier\n",
    "from sklearn.tree import DecisionTreeClassifier\n",
    "\n",
    "def get_top_n_features(titanic_train_data_X, titanic_train_data_Y, top_n_features):\n",
    "\n",
    "    # random forest\n",
    "    rf_est = RandomForestClassifier(random_state=0)\n",
    "    rf_param_grid = {'n_estimators': [500], 'min_samples_split': [2, 3], 'max_depth': [20]}\n",
    "    rf_grid = model_selection.GridSearchCV(rf_est, rf_param_grid, n_jobs=25, cv=10, verbose=1)\n",
    "    rf_grid.fit(titanic_train_data_X, titanic_train_data_Y)\n",
    "    print('Top N Features Best RF Params:' + str(rf_grid.best_params_))\n",
    "    print('Top N Features Best RF Score:' + str(rf_grid.best_score_))\n",
    "    print('Top N Features RF Train Score:' + str(rf_grid.score(titanic_train_data_X, titanic_train_data_Y)))\n",
    "    feature_imp_sorted_rf = pd.DataFrame({'feature': list(titanic_train_data_X),\n",
    "                                          'importance': rf_grid.best_estimator_.feature_importances_}).sort_values('importance', ascending=False)\n",
    "    features_top_n_rf = feature_imp_sorted_rf.head(top_n_features)['feature']\n",
    "    print('Sample 10 Features from RF Classifier')\n",
    "    print(str(features_top_n_rf[:10]))\n",
    "\n",
    "    # AdaBoost\n",
    "    ada_est =AdaBoostClassifier(random_state=0)\n",
    "    ada_param_grid = {'n_estimators': [500], 'learning_rate': [0.01, 0.1]}\n",
    "    ada_grid = model_selection.GridSearchCV(ada_est, ada_param_grid, n_jobs=25, cv=10, verbose=1)\n",
    "    ada_grid.fit(titanic_train_data_X, titanic_train_data_Y)\n",
    "    print('Top N Features Best Ada Params:' + str(ada_grid.best_params_))\n",
    "    print('Top N Features Best Ada Score:' + str(ada_grid.best_score_))\n",
    "    print('Top N Features Ada Train Score:' + str(ada_grid.score(titanic_train_data_X, titanic_train_data_Y)))\n",
    "    feature_imp_sorted_ada = pd.DataFrame({'feature': list(titanic_train_data_X),\n",
    "                                           'importance': ada_grid.best_estimator_.feature_importances_}).sort_values('importance', ascending=False)\n",
    "    features_top_n_ada = feature_imp_sorted_ada.head(top_n_features)['feature']\n",
    "    print('Sample 10 Feature from Ada Classifier:')\n",
    "    print(str(features_top_n_ada[:10]))\n",
    "\n",
    "    # ExtraTree\n",
    "    et_est = ExtraTreesClassifier(random_state=0)\n",
    "    et_param_grid = {'n_estimators': [500], 'min_samples_split': [3, 4], 'max_depth': [20]}\n",
    "    et_grid = model_selection.GridSearchCV(et_est, et_param_grid, n_jobs=25, cv=10, verbose=1)\n",
    "    et_grid.fit(titanic_train_data_X, titanic_train_data_Y)\n",
    "    print('Top N Features Best ET Params:' + str(et_grid.best_params_))\n",
    "    print('Top N Features Best ET Score:' + str(et_grid.best_score_))\n",
    "    print('Top N Features ET Train Score:' + str(et_grid.score(titanic_train_data_X, titanic_train_data_Y)))\n",
    "    feature_imp_sorted_et = pd.DataFrame({'feature': list(titanic_train_data_X),\n",
    "                                          'importance': et_grid.best_estimator_.feature_importances_}).sort_values('importance', ascending=False)\n",
    "    features_top_n_et = feature_imp_sorted_et.head(top_n_features)['feature']\n",
    "    print('Sample 10 Features from ET Classifier:')\n",
    "    print(str(features_top_n_et[:10]))\n",
    "    \n",
    "    # GradientBoosting\n",
    "    gb_est =GradientBoostingClassifier(random_state=0)\n",
    "    gb_param_grid = {'n_estimators': [500], 'learning_rate': [0.01, 0.1], 'max_depth': [20]}\n",
    "    gb_grid = model_selection.GridSearchCV(gb_est, gb_param_grid, n_jobs=25, cv=10, verbose=1)\n",
    "    gb_grid.fit(titanic_train_data_X, titanic_train_data_Y)\n",
    "    print('Top N Features Best GB Params:' + str(gb_grid.best_params_))\n",
    "    print('Top N Features Best GB Score:' + str(gb_grid.best_score_))\n",
    "    print('Top N Features GB Train Score:' + str(gb_grid.score(titanic_train_data_X, titanic_train_data_Y)))\n",
    "    feature_imp_sorted_gb = pd.DataFrame({'feature': list(titanic_train_data_X),\n",
    "                                           'importance': gb_grid.best_estimator_.feature_importances_}).sort_values('importance', ascending=False)\n",
    "    features_top_n_gb = feature_imp_sorted_gb.head(top_n_features)['feature']\n",
    "    print('Sample 10 Feature from GB Classifier:')\n",
    "    print(str(features_top_n_gb[:10]))\n",
    "    \n",
    "    # DecisionTree\n",
    "    dt_est = DecisionTreeClassifier(random_state=0)\n",
    "    dt_param_grid = {'min_samples_split': [2, 4], 'max_depth': [20]}\n",
    "    dt_grid = model_selection.GridSearchCV(dt_est, dt_param_grid, n_jobs=25, cv=10, verbose=1)\n",
    "    dt_grid.fit(titanic_train_data_X, titanic_train_data_Y)\n",
    "    print('Top N Features Best DT Params:' + str(dt_grid.best_params_))\n",
    "    print('Top N Features Best DT Score:' + str(dt_grid.best_score_))\n",
    "    print('Top N Features DT Train Score:' + str(dt_grid.score(titanic_train_data_X, titanic_train_data_Y)))\n",
    "    feature_imp_sorted_dt = pd.DataFrame({'feature': list(titanic_train_data_X),\n",
    "                                          'importance': dt_grid.best_estimator_.feature_importances_}).sort_values('importance', ascending=False)\n",
    "    features_top_n_dt = feature_imp_sorted_dt.head(top_n_features)['feature']\n",
    "    print('Sample 10 Features from DT Classifier:')\n",
    "    print(str(features_top_n_dt[:10]))\n",
    "    \n",
    "    # merge the three models\n",
    "    features_top_n = pd.concat([features_top_n_rf, features_top_n_ada, features_top_n_et, features_top_n_gb, features_top_n_dt], \n",
    "                               ignore_index=True).drop_duplicates()\n",
    "    \n",
    "    features_importance = pd.concat([feature_imp_sorted_rf, feature_imp_sorted_ada, feature_imp_sorted_et, \n",
    "                                   feature_imp_sorted_gb, feature_imp_sorted_dt],ignore_index=True)\n",
    "    \n",
    "    return features_top_n , features_importance\n",
    "\n",
    "feature_to_pick = 20\n",
    "feature_top_n, feature_importance = get_top_n_features(titanic_train_data_X, titanic_train_data_Y, feature_to_pick)\n",
    "titanic_train_data_X = pd.DataFrame(titanic_train_data_X[feature_top_n])\n",
    "titanic_test_data_X = pd.DataFrame(titanic_test_data_X[feature_top_n])"
   ]
  },
  {
   "cell_type": "code",
   "execution_count": 84,
   "metadata": {},
   "outputs": [
    {
     "data": {
      "image/png": "[encoded data removed]",
      "text/plain": [
       "<Figure size 1296x576 with 2 Axes>"
      ]
     },
     "metadata": {
      "needs_background": "light"
     },
     "output_type": "display_data"
    }
   ],
   "source": [
    "rf_feature_imp = feature_importance[:10]\n",
    "Ada_feature_imp = feature_importance[30:30+10].reset_index(drop=True)\n",
    "\n",
    "# make importances relative to max importance\n",
    "rf_feature_importance = 100.0 * (rf_feature_imp['importance'] / rf_feature_imp['importance'].max())\n",
    "Ada_feature_importance = 100.0 * (Ada_feature_imp['importance'] / Ada_feature_imp['importance'].max())\n",
    "\n",
    "# Get the indexes of all features over the importance threshold\n",
    "rf_important_idx = np.where(rf_feature_importance)[0]\n",
    "Ada_important_idx = np.where(Ada_feature_importance)[0]\n",
    "\n",
    "# Adapted from http://scikit-learn.org/stable/auto_examples/ensemble/plot_gradient_boosting_regression.html\n",
    "pos = np.arange(rf_important_idx.shape[0]) + .5\n",
    "\n",
    "plt.figure(1, figsize = (18, 8))\n",
    "\n",
    "plt.subplot(121)\n",
    "plt.barh(pos, rf_feature_importance[rf_important_idx][::-1])\n",
    "plt.yticks(pos, rf_feature_imp['feature'][::-1])\n",
    "plt.xlabel('Relative Importance')\n",
    "plt.title('RandomForest Feature Importance')\n",
    "\n",
    "plt.subplot(122)\n",
    "plt.barh(pos, Ada_feature_importance[Ada_important_idx][::-1])\n",
    "plt.yticks(pos, Ada_feature_imp['feature'][::-1])\n",
    "plt.xlabel('Relative Importance')\n",
    "plt.title('AdaBoost Feature Importance')\n",
    "\n",
    "plt.show()"
   ]
  },
  {
   "cell_type": "markdown",
   "metadata": {},
   "source": [
    "### (2) 常见的模型融合方法有：Bagging、Boosting、Stacking、Blending。\n",
    "\n",
    "### (3-1): Bagging\n",
    "Bagging 将多个模型，也就是多个基学习器的预测结果进行简单的加权平均或者投票。它的好处是可以并行地训练基学习器。Random Forest就用到了Bagging的思想。\n",
    "\n",
    "### (3-2): Boosting\n",
    "Boosting 的思想有点像知错能改，每个基学习器是在上一个基学习器学习的基础上，对上一个基学习器的错误进行弥补。我们将会用到的 AdaBoost，Gradient Boost 就用到了这种思想。\n",
    "\n",
    "### (3-3): Stacking  \n",
    "将训练好的所有基模型对整个训练集进行预测，第j个基模型对第i个训练样本的预测值将作为新的训练集中第i个样本的第j个特征值，最后基于新的训练集进行训练。同理，预测的过程也要先经过所有基模型的预测形成新的测试集，最后再对测试集进行预测.  \n",
    "相比来说Stacking的融合框架相对前面的二者来说在精度上确实有一定的提升，所以在下面的模型融合上，我们也使用Stacking方法。\n",
    "### 以上集成方法的区别与联系：  \n",
    "https://blog.csdn.net/willduan1/article/details/73618677  \n",
    "原文： http://rasbt.github.io/mlxtend/user_guide/classifier/StackingClassifier/#stackingclassifier\n",
    "\n",
    "(3-4): Blending\n",
    "Blending 和 Stacking 很相似，但同时它可以防止信息泄露的问题。  \n",
    "## Stacking框架融合:\n",
    "这里我们使用了两层的模型融合，Level 1使用了：RandomForest、AdaBoost、ExtraTrees、GBDT、DecisionTree、KNN、SVM ，一共7个模型，Level 2使用了XGBoost使用第一层预测的结果作为特征对最终的结果进行预测。\n",
    "\n",
    "### Level 1：\n",
    "Stacking框架是堆叠使用基础分类器的预测作为对二级模型的训练的输入。 然而，我们不能简单地在全部训练数据上训练基本模型，产生预测，输出用于第二层的训练。如果我们在Train Data上训练，然后在Train Data上预测，就会造成过拟合。因此，我们需要对每个基学习器使用K-fold，将K个模型对Valid Set的预测结果拼起来，作为下一层学习器的输入。\n",
    "\n",
    "所以这里我们建立输出fold预测方法："
   ]
  },
  {
   "cell_type": "code",
   "execution_count": 85,
   "metadata": {},
   "outputs": [],
   "source": [
    "from sklearn.model_selection import KFold\n",
    "NFolds = 7\n",
    "kf = KFold(n_splits = NFolds, random_state=0, shuffle=False)\n",
    "\n",
    "def get_fold(clf, train_x, train_y, test_x):\n",
    "    train = np.zeros((train_x.shape[0],))\n",
    "    test = np.zeros((test_x.shape[0],))\n",
    "    test_skf = np.empty((NFolds, test_x.shape[0]))\n",
    "    \n",
    "    for i, (train_idx, test_idx) in enumerate(kf.split(train_x)):\n",
    "        tr_x = train_x[train_idx]\n",
    "        tr_y = train_y[train_idx]\n",
    "        ts_x = train_x[test_idx]\n",
    "        \n",
    "        clf.fit(tr_x, tr_y)\n",
    "        train[test_idx] = clf.predict(ts_x)\n",
    "        test_skf[i,:] = clf.predict(test_x)\n",
    "    test = np.mean(test_skf, axis=1)\n",
    "    return train.reshape(-1,1), test.reshape(-1,1)"
   ]
  },
  {
   "cell_type": "markdown",
   "metadata": {},
   "source": [
    "构建不同的基学习器，这里我们使用了RandomForest、AdaBoost、ExtraTrees、GBDT、DecisionTree、KNN、SVM 七个基学习器：（这里的模型可以使用如上面的GridSearch方法对模型的超参数进行搜索选择）"
   ]
  },
  {
   "cell_type": "code",
   "execution_count": 86,
   "metadata": {},
   "outputs": [],
   "source": [
    "from sklearn.neighbors import KNeighborsClassifier\n",
    "from sklearn.svm import SVC\n",
    "rf_clf = RandomForestClassifier(n_estimators=500, max_features='sqrt')\n",
    "ada_clf = AdaBoostClassifier(n_estimators=500, learning_rate=0.1)\n",
    "ext_clf = ExtraTreesClassifier(n_estimators=500, n_jobs=-1, max_depth=6)\n",
    "gbdt_clf = GradientBoostingClassifier(n_estimators=500, learning_rate=0.05)\n",
    "dt_clf = DecisionTreeClassifier(max_depth=8)\n",
    "knn_clf = KNeighborsClassifier(n_neighbors=5)\n",
    "svm_clf = SVC(kernel='linear', C=0.02)\n",
    "\n",
    "train_x = titanic_train_data_X.values #pandas 变为 numpy\n",
    "train_y = titanic_train_data_Y.values\n",
    "test_x = titanic_test_data_X"
   ]
  },
  {
   "cell_type": "code",
   "execution_count": 87,
   "metadata": {},
   "outputs": [],
   "source": [
    "rf_stack_train, rf_stack_test = get_fold(rf_clf, train_x, train_y, test_x)\n",
    "ada_stack_train, ada_stack_test = get_fold(ada_clf, train_x, train_y, test_x)\n",
    "ext_stack_train, ext_stack_test = get_fold(ext_clf, train_x, train_y, test_x)\n",
    "gbdt_stack_train, gbdt_stack_test = get_fold(gbdt_clf, train_x, train_y, test_x)\n",
    "dt_stack_train, dt_stack_test = get_fold(dt_clf, train_x, train_y, test_x)\n",
    "knn_stack_train, knn_stack_test = get_fold(knn_clf, train_x, train_y, test_x)\n",
    "svm_stack_train, svm_stack_test = get_fold(svm_clf, train_x, train_y, test_x)"
   ]
  },
  {
   "cell_type": "markdown",
   "metadata": {},
   "source": [
    "### Level 2：我们利用XGBoost，使用第一层预测的结果作为特征对最终的结果进行预测。"
   ]
  },
  {
   "cell_type": "code",
   "execution_count": 88,
   "metadata": {},
   "outputs": [],
   "source": [
    "X_train = np.concatenate((rf_stack_train, ada_stack_train, ext_stack_train, gbdt_stack_train, dt_stack_train,\n",
    "                         dt_stack_train, knn_stack_train, svm_stack_train), axis=1)\n",
    "X_test = np.concatenate((rf_stack_test, ada_stack_test, ext_stack_test, gbdt_stack_test, dt_stack_test,\n",
    "                        dt_stack_test, knn_stack_test, svm_stack_test), axis=1)"
   ]
  },
  {
   "cell_type": "code",
   "execution_count": 89,
   "metadata": {},
   "outputs": [],
   "source": [
    "from xgboost import XGBClassifier\n",
    "gbm = XGBClassifier(n_estimators=2000, max_depth=4, min_child_weight=2, gamma=0.9, subsample=0.8,\n",
    "                   colsample_bytree=0.8, objective= 'binary:logistic', nthread= -1, scale_pos_weight=1).fit(X_train, train_y)\n",
    "predict = gbm.predict(X_test)"
   ]
  },
  {
   "cell_type": "code",
   "execution_count": 91,
   "metadata": {},
   "outputs": [],
   "source": [
    "final = pd.DataFrame({'PassengerId':test_datum['PassengerId'].values, \n",
    "                       'Survived':df_survived.astype(np.int32)})\n",
    "final.to_csv(\"final.csv\", index=False)"
   ]
  },
  {
   "cell_type": "code",
   "execution_count": null,
   "metadata": {},
   "outputs": [],
   "source": []
  }
 ],
 "metadata": {
  "kernelspec": {
   "display_name": "Python 3",
   "language": "python",
   "name": "python3"
  },
  "language_info": {
   "codemirror_mode": {
    "name": "ipython",
    "version": 3
   },
   "file_extension": ".py",
   "mimetype": "text/x-python",
   "name": "python",
   "nbconvert_exporter": "python",
   "pygments_lexer": "ipython3",
   "version": "3.7.2"
  }
 },
 "nbformat": 4,
 "nbformat_minor": 2
}
